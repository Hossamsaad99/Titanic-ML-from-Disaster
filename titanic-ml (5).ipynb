{
 "cells": [
  {
   "cell_type": "markdown",
   "id": "323b1813",
   "metadata": {
    "papermill": {
     "duration": 0.014705,
     "end_time": "2022-06-29T14:30:38.262787",
     "exception": false,
     "start_time": "2022-06-29T14:30:38.248082",
     "status": "completed"
    },
    "tags": []
   },
   "source": [
    "# Titanic Project\n",
    "   > * Supervisor: Eng.Ahmed Abu ELkher\n",
    "   > * By: Hossam Saad\n"
   ]
  },
  {
   "cell_type": "markdown",
   "id": "3002d89a",
   "metadata": {
    "papermill": {
     "duration": 0.014,
     "end_time": "2022-06-29T14:30:38.290492",
     "exception": false,
     "start_time": "2022-06-29T14:30:38.276492",
     "status": "completed"
    },
    "tags": []
   },
   "source": [
    "### Required Libraries"
   ]
  },
  {
   "cell_type": "code",
   "execution_count": 1,
   "id": "e9a219d9",
   "metadata": {
    "_cell_guid": "b1076dfc-b9ad-4769-8c92-a6c4dae69d19",
    "_uuid": "8f2839f25d086af736a60e9eeb907d3b93b6e0e5",
    "execution": {
     "iopub.execute_input": "2022-06-29T14:30:38.320368Z",
     "iopub.status.busy": "2022-06-29T14:30:38.319653Z",
     "iopub.status.idle": "2022-06-29T14:30:39.568124Z",
     "shell.execute_reply": "2022-06-29T14:30:39.567175Z"
    },
    "papermill": {
     "duration": 1.266408,
     "end_time": "2022-06-29T14:30:39.570282",
     "exception": false,
     "start_time": "2022-06-29T14:30:38.303874",
     "status": "completed"
    },
    "tags": []
   },
   "outputs": [
    {
     "name": "stdout",
     "output_type": "stream",
     "text": [
      "/kaggle/input/titanic/train.csv\n",
      "/kaggle/input/titanic/test.csv\n",
      "/kaggle/input/titanic/gender_submission.csv\n"
     ]
    }
   ],
   "source": [
    "import numpy as np \n",
    "import pandas as pd \n",
    "import seaborn as sns \n",
    "%matplotlib inline\n",
    "from matplotlib import pyplot as plt\n",
    "from sklearn.model_selection import train_test_split\n",
    "from sklearn import svm\n",
    "from sklearn.ensemble import RandomForestClassifier\n",
    "from sklearn.tree import DecisionTreeClassifier\n",
    "from sklearn.metrics import classification_report,confusion_matrix,accuracy_score\n",
    "import warnings\n",
    "warnings.filterwarnings(\"ignore\")\n",
    "\n",
    "import os\n",
    "for dirname, _, filenames in os.walk('/kaggle/input'):\n",
    "    for filename in filenames:\n",
    "        print(os.path.join(dirname, filename))"
   ]
  },
  {
   "cell_type": "markdown",
   "id": "46232dde",
   "metadata": {
    "papermill": {
     "duration": 0.013257,
     "end_time": "2022-06-29T14:30:39.597306",
     "exception": false,
     "start_time": "2022-06-29T14:30:39.584049",
     "status": "completed"
    },
    "tags": []
   },
   "source": [
    "### Data Cleansing"
   ]
  },
  {
   "cell_type": "code",
   "execution_count": 2,
   "id": "487435bb",
   "metadata": {
    "execution": {
     "iopub.execute_input": "2022-06-29T14:30:39.625597Z",
     "iopub.status.busy": "2022-06-29T14:30:39.624914Z",
     "iopub.status.idle": "2022-06-29T14:30:39.649487Z",
     "shell.execute_reply": "2022-06-29T14:30:39.648593Z"
    },
    "papermill": {
     "duration": 0.040552,
     "end_time": "2022-06-29T14:30:39.651254",
     "exception": false,
     "start_time": "2022-06-29T14:30:39.610702",
     "status": "completed"
    },
    "tags": []
   },
   "outputs": [],
   "source": [
    "train_df = pd.read_csv('../input/titanic/train.csv')\n",
    "test_df = pd.read_csv('../input/titanic/test.csv')"
   ]
  },
  {
   "cell_type": "markdown",
   "id": "6337afd8",
   "metadata": {
    "papermill": {
     "duration": 0.013538,
     "end_time": "2022-06-29T14:30:39.678805",
     "exception": false,
     "start_time": "2022-06-29T14:30:39.665267",
     "status": "completed"
    },
    "tags": []
   },
   "source": [
    "### Data Processing With Training data"
   ]
  },
  {
   "cell_type": "code",
   "execution_count": 3,
   "id": "29b98565",
   "metadata": {
    "execution": {
     "iopub.execute_input": "2022-06-29T14:30:39.707639Z",
     "iopub.status.busy": "2022-06-29T14:30:39.706953Z",
     "iopub.status.idle": "2022-06-29T14:30:39.729318Z",
     "shell.execute_reply": "2022-06-29T14:30:39.728444Z"
    },
    "papermill": {
     "duration": 0.038628,
     "end_time": "2022-06-29T14:30:39.731319",
     "exception": false,
     "start_time": "2022-06-29T14:30:39.692691",
     "status": "completed"
    },
    "tags": []
   },
   "outputs": [
    {
     "data": {
      "text/html": [
       "<div>\n",
       "<style scoped>\n",
       "    .dataframe tbody tr th:only-of-type {\n",
       "        vertical-align: middle;\n",
       "    }\n",
       "\n",
       "    .dataframe tbody tr th {\n",
       "        vertical-align: top;\n",
       "    }\n",
       "\n",
       "    .dataframe thead th {\n",
       "        text-align: right;\n",
       "    }\n",
       "</style>\n",
       "<table border=\"1\" class=\"dataframe\">\n",
       "  <thead>\n",
       "    <tr style=\"text-align: right;\">\n",
       "      <th></th>\n",
       "      <th>PassengerId</th>\n",
       "      <th>Survived</th>\n",
       "      <th>Pclass</th>\n",
       "      <th>Name</th>\n",
       "      <th>Sex</th>\n",
       "      <th>Age</th>\n",
       "      <th>SibSp</th>\n",
       "      <th>Parch</th>\n",
       "      <th>Ticket</th>\n",
       "      <th>Fare</th>\n",
       "      <th>Cabin</th>\n",
       "      <th>Embarked</th>\n",
       "    </tr>\n",
       "  </thead>\n",
       "  <tbody>\n",
       "    <tr>\n",
       "      <th>0</th>\n",
       "      <td>1</td>\n",
       "      <td>0</td>\n",
       "      <td>3</td>\n",
       "      <td>Braund, Mr. Owen Harris</td>\n",
       "      <td>male</td>\n",
       "      <td>22.0</td>\n",
       "      <td>1</td>\n",
       "      <td>0</td>\n",
       "      <td>A/5 21171</td>\n",
       "      <td>7.2500</td>\n",
       "      <td>NaN</td>\n",
       "      <td>S</td>\n",
       "    </tr>\n",
       "    <tr>\n",
       "      <th>1</th>\n",
       "      <td>2</td>\n",
       "      <td>1</td>\n",
       "      <td>1</td>\n",
       "      <td>Cumings, Mrs. John Bradley (Florence Briggs Th...</td>\n",
       "      <td>female</td>\n",
       "      <td>38.0</td>\n",
       "      <td>1</td>\n",
       "      <td>0</td>\n",
       "      <td>PC 17599</td>\n",
       "      <td>71.2833</td>\n",
       "      <td>C85</td>\n",
       "      <td>C</td>\n",
       "    </tr>\n",
       "    <tr>\n",
       "      <th>2</th>\n",
       "      <td>3</td>\n",
       "      <td>1</td>\n",
       "      <td>3</td>\n",
       "      <td>Heikkinen, Miss. Laina</td>\n",
       "      <td>female</td>\n",
       "      <td>26.0</td>\n",
       "      <td>0</td>\n",
       "      <td>0</td>\n",
       "      <td>STON/O2. 3101282</td>\n",
       "      <td>7.9250</td>\n",
       "      <td>NaN</td>\n",
       "      <td>S</td>\n",
       "    </tr>\n",
       "    <tr>\n",
       "      <th>3</th>\n",
       "      <td>4</td>\n",
       "      <td>1</td>\n",
       "      <td>1</td>\n",
       "      <td>Futrelle, Mrs. Jacques Heath (Lily May Peel)</td>\n",
       "      <td>female</td>\n",
       "      <td>35.0</td>\n",
       "      <td>1</td>\n",
       "      <td>0</td>\n",
       "      <td>113803</td>\n",
       "      <td>53.1000</td>\n",
       "      <td>C123</td>\n",
       "      <td>S</td>\n",
       "    </tr>\n",
       "    <tr>\n",
       "      <th>4</th>\n",
       "      <td>5</td>\n",
       "      <td>0</td>\n",
       "      <td>3</td>\n",
       "      <td>Allen, Mr. William Henry</td>\n",
       "      <td>male</td>\n",
       "      <td>35.0</td>\n",
       "      <td>0</td>\n",
       "      <td>0</td>\n",
       "      <td>373450</td>\n",
       "      <td>8.0500</td>\n",
       "      <td>NaN</td>\n",
       "      <td>S</td>\n",
       "    </tr>\n",
       "  </tbody>\n",
       "</table>\n",
       "</div>"
      ],
      "text/plain": [
       "   PassengerId  Survived  Pclass  \\\n",
       "0            1         0       3   \n",
       "1            2         1       1   \n",
       "2            3         1       3   \n",
       "3            4         1       1   \n",
       "4            5         0       3   \n",
       "\n",
       "                                                Name     Sex   Age  SibSp  \\\n",
       "0                            Braund, Mr. Owen Harris    male  22.0      1   \n",
       "1  Cumings, Mrs. John Bradley (Florence Briggs Th...  female  38.0      1   \n",
       "2                             Heikkinen, Miss. Laina  female  26.0      0   \n",
       "3       Futrelle, Mrs. Jacques Heath (Lily May Peel)  female  35.0      1   \n",
       "4                           Allen, Mr. William Henry    male  35.0      0   \n",
       "\n",
       "   Parch            Ticket     Fare Cabin Embarked  \n",
       "0      0         A/5 21171   7.2500   NaN        S  \n",
       "1      0          PC 17599  71.2833   C85        C  \n",
       "2      0  STON/O2. 3101282   7.9250   NaN        S  \n",
       "3      0            113803  53.1000  C123        S  \n",
       "4      0            373450   8.0500   NaN        S  "
      ]
     },
     "execution_count": 3,
     "metadata": {},
     "output_type": "execute_result"
    }
   ],
   "source": [
    "train_df.head()"
   ]
  },
  {
   "cell_type": "code",
   "execution_count": 4,
   "id": "199fec5d",
   "metadata": {
    "execution": {
     "iopub.execute_input": "2022-06-29T14:30:39.761906Z",
     "iopub.status.busy": "2022-06-29T14:30:39.760563Z",
     "iopub.status.idle": "2022-06-29T14:30:39.775827Z",
     "shell.execute_reply": "2022-06-29T14:30:39.775002Z"
    },
    "papermill": {
     "duration": 0.031813,
     "end_time": "2022-06-29T14:30:39.777877",
     "exception": false,
     "start_time": "2022-06-29T14:30:39.746064",
     "status": "completed"
    },
    "tags": []
   },
   "outputs": [
    {
     "data": {
      "text/html": [
       "<div>\n",
       "<style scoped>\n",
       "    .dataframe tbody tr th:only-of-type {\n",
       "        vertical-align: middle;\n",
       "    }\n",
       "\n",
       "    .dataframe tbody tr th {\n",
       "        vertical-align: top;\n",
       "    }\n",
       "\n",
       "    .dataframe thead th {\n",
       "        text-align: right;\n",
       "    }\n",
       "</style>\n",
       "<table border=\"1\" class=\"dataframe\">\n",
       "  <thead>\n",
       "    <tr style=\"text-align: right;\">\n",
       "      <th></th>\n",
       "      <th>PassengerId</th>\n",
       "      <th>Pclass</th>\n",
       "      <th>Name</th>\n",
       "      <th>Sex</th>\n",
       "      <th>Age</th>\n",
       "      <th>SibSp</th>\n",
       "      <th>Parch</th>\n",
       "      <th>Ticket</th>\n",
       "      <th>Fare</th>\n",
       "      <th>Cabin</th>\n",
       "      <th>Embarked</th>\n",
       "    </tr>\n",
       "  </thead>\n",
       "  <tbody>\n",
       "    <tr>\n",
       "      <th>0</th>\n",
       "      <td>892</td>\n",
       "      <td>3</td>\n",
       "      <td>Kelly, Mr. James</td>\n",
       "      <td>male</td>\n",
       "      <td>34.5</td>\n",
       "      <td>0</td>\n",
       "      <td>0</td>\n",
       "      <td>330911</td>\n",
       "      <td>7.8292</td>\n",
       "      <td>NaN</td>\n",
       "      <td>Q</td>\n",
       "    </tr>\n",
       "    <tr>\n",
       "      <th>1</th>\n",
       "      <td>893</td>\n",
       "      <td>3</td>\n",
       "      <td>Wilkes, Mrs. James (Ellen Needs)</td>\n",
       "      <td>female</td>\n",
       "      <td>47.0</td>\n",
       "      <td>1</td>\n",
       "      <td>0</td>\n",
       "      <td>363272</td>\n",
       "      <td>7.0000</td>\n",
       "      <td>NaN</td>\n",
       "      <td>S</td>\n",
       "    </tr>\n",
       "    <tr>\n",
       "      <th>2</th>\n",
       "      <td>894</td>\n",
       "      <td>2</td>\n",
       "      <td>Myles, Mr. Thomas Francis</td>\n",
       "      <td>male</td>\n",
       "      <td>62.0</td>\n",
       "      <td>0</td>\n",
       "      <td>0</td>\n",
       "      <td>240276</td>\n",
       "      <td>9.6875</td>\n",
       "      <td>NaN</td>\n",
       "      <td>Q</td>\n",
       "    </tr>\n",
       "    <tr>\n",
       "      <th>3</th>\n",
       "      <td>895</td>\n",
       "      <td>3</td>\n",
       "      <td>Wirz, Mr. Albert</td>\n",
       "      <td>male</td>\n",
       "      <td>27.0</td>\n",
       "      <td>0</td>\n",
       "      <td>0</td>\n",
       "      <td>315154</td>\n",
       "      <td>8.6625</td>\n",
       "      <td>NaN</td>\n",
       "      <td>S</td>\n",
       "    </tr>\n",
       "    <tr>\n",
       "      <th>4</th>\n",
       "      <td>896</td>\n",
       "      <td>3</td>\n",
       "      <td>Hirvonen, Mrs. Alexander (Helga E Lindqvist)</td>\n",
       "      <td>female</td>\n",
       "      <td>22.0</td>\n",
       "      <td>1</td>\n",
       "      <td>1</td>\n",
       "      <td>3101298</td>\n",
       "      <td>12.2875</td>\n",
       "      <td>NaN</td>\n",
       "      <td>S</td>\n",
       "    </tr>\n",
       "  </tbody>\n",
       "</table>\n",
       "</div>"
      ],
      "text/plain": [
       "   PassengerId  Pclass                                          Name     Sex  \\\n",
       "0          892       3                              Kelly, Mr. James    male   \n",
       "1          893       3              Wilkes, Mrs. James (Ellen Needs)  female   \n",
       "2          894       2                     Myles, Mr. Thomas Francis    male   \n",
       "3          895       3                              Wirz, Mr. Albert    male   \n",
       "4          896       3  Hirvonen, Mrs. Alexander (Helga E Lindqvist)  female   \n",
       "\n",
       "    Age  SibSp  Parch   Ticket     Fare Cabin Embarked  \n",
       "0  34.5      0      0   330911   7.8292   NaN        Q  \n",
       "1  47.0      1      0   363272   7.0000   NaN        S  \n",
       "2  62.0      0      0   240276   9.6875   NaN        Q  \n",
       "3  27.0      0      0   315154   8.6625   NaN        S  \n",
       "4  22.0      1      1  3101298  12.2875   NaN        S  "
      ]
     },
     "execution_count": 4,
     "metadata": {},
     "output_type": "execute_result"
    }
   ],
   "source": [
    "test_df.head()"
   ]
  },
  {
   "cell_type": "code",
   "execution_count": 5,
   "id": "872f3543",
   "metadata": {
    "execution": {
     "iopub.execute_input": "2022-06-29T14:30:39.807493Z",
     "iopub.status.busy": "2022-06-29T14:30:39.807238Z",
     "iopub.status.idle": "2022-06-29T14:30:39.829071Z",
     "shell.execute_reply": "2022-06-29T14:30:39.827576Z"
    },
    "papermill": {
     "duration": 0.039811,
     "end_time": "2022-06-29T14:30:39.832100",
     "exception": false,
     "start_time": "2022-06-29T14:30:39.792289",
     "status": "completed"
    },
    "tags": []
   },
   "outputs": [
    {
     "name": "stdout",
     "output_type": "stream",
     "text": [
      "<class 'pandas.core.frame.DataFrame'>\n",
      "RangeIndex: 891 entries, 0 to 890\n",
      "Data columns (total 12 columns):\n",
      " #   Column       Non-Null Count  Dtype  \n",
      "---  ------       --------------  -----  \n",
      " 0   PassengerId  891 non-null    int64  \n",
      " 1   Survived     891 non-null    int64  \n",
      " 2   Pclass       891 non-null    int64  \n",
      " 3   Name         891 non-null    object \n",
      " 4   Sex          891 non-null    object \n",
      " 5   Age          714 non-null    float64\n",
      " 6   SibSp        891 non-null    int64  \n",
      " 7   Parch        891 non-null    int64  \n",
      " 8   Ticket       891 non-null    object \n",
      " 9   Fare         891 non-null    float64\n",
      " 10  Cabin        204 non-null    object \n",
      " 11  Embarked     889 non-null    object \n",
      "dtypes: float64(2), int64(5), object(5)\n",
      "memory usage: 83.7+ KB\n"
     ]
    }
   ],
   "source": [
    "train_df.info()"
   ]
  },
  {
   "cell_type": "code",
   "execution_count": 6,
   "id": "4f6ca1f5",
   "metadata": {
    "execution": {
     "iopub.execute_input": "2022-06-29T14:30:39.861739Z",
     "iopub.status.busy": "2022-06-29T14:30:39.861492Z",
     "iopub.status.idle": "2022-06-29T14:30:39.892255Z",
     "shell.execute_reply": "2022-06-29T14:30:39.891337Z"
    },
    "papermill": {
     "duration": 0.047467,
     "end_time": "2022-06-29T14:30:39.894102",
     "exception": false,
     "start_time": "2022-06-29T14:30:39.846635",
     "status": "completed"
    },
    "tags": []
   },
   "outputs": [
    {
     "data": {
      "text/html": [
       "<div>\n",
       "<style scoped>\n",
       "    .dataframe tbody tr th:only-of-type {\n",
       "        vertical-align: middle;\n",
       "    }\n",
       "\n",
       "    .dataframe tbody tr th {\n",
       "        vertical-align: top;\n",
       "    }\n",
       "\n",
       "    .dataframe thead th {\n",
       "        text-align: right;\n",
       "    }\n",
       "</style>\n",
       "<table border=\"1\" class=\"dataframe\">\n",
       "  <thead>\n",
       "    <tr style=\"text-align: right;\">\n",
       "      <th></th>\n",
       "      <th>PassengerId</th>\n",
       "      <th>Survived</th>\n",
       "      <th>Pclass</th>\n",
       "      <th>Age</th>\n",
       "      <th>SibSp</th>\n",
       "      <th>Parch</th>\n",
       "      <th>Fare</th>\n",
       "    </tr>\n",
       "  </thead>\n",
       "  <tbody>\n",
       "    <tr>\n",
       "      <th>count</th>\n",
       "      <td>891.00</td>\n",
       "      <td>891.00</td>\n",
       "      <td>891.00</td>\n",
       "      <td>714.00</td>\n",
       "      <td>891.00</td>\n",
       "      <td>891.00</td>\n",
       "      <td>891.00</td>\n",
       "    </tr>\n",
       "    <tr>\n",
       "      <th>mean</th>\n",
       "      <td>446.00</td>\n",
       "      <td>0.38</td>\n",
       "      <td>2.31</td>\n",
       "      <td>29.70</td>\n",
       "      <td>0.52</td>\n",
       "      <td>0.38</td>\n",
       "      <td>32.20</td>\n",
       "    </tr>\n",
       "    <tr>\n",
       "      <th>std</th>\n",
       "      <td>257.35</td>\n",
       "      <td>0.49</td>\n",
       "      <td>0.84</td>\n",
       "      <td>14.53</td>\n",
       "      <td>1.10</td>\n",
       "      <td>0.81</td>\n",
       "      <td>49.69</td>\n",
       "    </tr>\n",
       "    <tr>\n",
       "      <th>min</th>\n",
       "      <td>1.00</td>\n",
       "      <td>0.00</td>\n",
       "      <td>1.00</td>\n",
       "      <td>0.42</td>\n",
       "      <td>0.00</td>\n",
       "      <td>0.00</td>\n",
       "      <td>0.00</td>\n",
       "    </tr>\n",
       "    <tr>\n",
       "      <th>25%</th>\n",
       "      <td>223.50</td>\n",
       "      <td>0.00</td>\n",
       "      <td>2.00</td>\n",
       "      <td>20.12</td>\n",
       "      <td>0.00</td>\n",
       "      <td>0.00</td>\n",
       "      <td>7.91</td>\n",
       "    </tr>\n",
       "    <tr>\n",
       "      <th>50%</th>\n",
       "      <td>446.00</td>\n",
       "      <td>0.00</td>\n",
       "      <td>3.00</td>\n",
       "      <td>28.00</td>\n",
       "      <td>0.00</td>\n",
       "      <td>0.00</td>\n",
       "      <td>14.45</td>\n",
       "    </tr>\n",
       "    <tr>\n",
       "      <th>75%</th>\n",
       "      <td>668.50</td>\n",
       "      <td>1.00</td>\n",
       "      <td>3.00</td>\n",
       "      <td>38.00</td>\n",
       "      <td>1.00</td>\n",
       "      <td>0.00</td>\n",
       "      <td>31.00</td>\n",
       "    </tr>\n",
       "    <tr>\n",
       "      <th>max</th>\n",
       "      <td>891.00</td>\n",
       "      <td>1.00</td>\n",
       "      <td>3.00</td>\n",
       "      <td>80.00</td>\n",
       "      <td>8.00</td>\n",
       "      <td>6.00</td>\n",
       "      <td>512.33</td>\n",
       "    </tr>\n",
       "  </tbody>\n",
       "</table>\n",
       "</div>"
      ],
      "text/plain": [
       "       PassengerId  Survived  Pclass     Age   SibSp   Parch    Fare\n",
       "count       891.00    891.00  891.00  714.00  891.00  891.00  891.00\n",
       "mean        446.00      0.38    2.31   29.70    0.52    0.38   32.20\n",
       "std         257.35      0.49    0.84   14.53    1.10    0.81   49.69\n",
       "min           1.00      0.00    1.00    0.42    0.00    0.00    0.00\n",
       "25%         223.50      0.00    2.00   20.12    0.00    0.00    7.91\n",
       "50%         446.00      0.00    3.00   28.00    0.00    0.00   14.45\n",
       "75%         668.50      1.00    3.00   38.00    1.00    0.00   31.00\n",
       "max         891.00      1.00    3.00   80.00    8.00    6.00  512.33"
      ]
     },
     "execution_count": 6,
     "metadata": {},
     "output_type": "execute_result"
    }
   ],
   "source": [
    "round(train_df.describe(),2)"
   ]
  },
  {
   "cell_type": "code",
   "execution_count": 7,
   "id": "14deb1b8",
   "metadata": {
    "execution": {
     "iopub.execute_input": "2022-06-29T14:30:39.924465Z",
     "iopub.status.busy": "2022-06-29T14:30:39.923347Z",
     "iopub.status.idle": "2022-06-29T14:30:39.934581Z",
     "shell.execute_reply": "2022-06-29T14:30:39.933433Z"
    },
    "papermill": {
     "duration": 0.028216,
     "end_time": "2022-06-29T14:30:39.936576",
     "exception": false,
     "start_time": "2022-06-29T14:30:39.908360",
     "status": "completed"
    },
    "tags": []
   },
   "outputs": [
    {
     "data": {
      "text/plain": [
       "Cabin          77.10\n",
       "Age            19.87\n",
       "Embarked        0.22\n",
       "PassengerId     0.00\n",
       "Survived        0.00\n",
       "Pclass          0.00\n",
       "Name            0.00\n",
       "Sex             0.00\n",
       "SibSp           0.00\n",
       "Parch           0.00\n",
       "Ticket          0.00\n",
       "Fare            0.00\n",
       "dtype: float64"
      ]
     },
     "execution_count": 7,
     "metadata": {},
     "output_type": "execute_result"
    }
   ],
   "source": [
    "round((train_df.isnull().sum()/len(train_df))*100,2).sort_values(ascending= False)"
   ]
  },
  {
   "cell_type": "code",
   "execution_count": 8,
   "id": "4e8e28a8",
   "metadata": {
    "execution": {
     "iopub.execute_input": "2022-06-29T14:30:39.968550Z",
     "iopub.status.busy": "2022-06-29T14:30:39.967117Z",
     "iopub.status.idle": "2022-06-29T14:30:39.972820Z",
     "shell.execute_reply": "2022-06-29T14:30:39.971983Z"
    },
    "papermill": {
     "duration": 0.023608,
     "end_time": "2022-06-29T14:30:39.974661",
     "exception": false,
     "start_time": "2022-06-29T14:30:39.951053",
     "status": "completed"
    },
    "tags": []
   },
   "outputs": [],
   "source": [
    "train_df['Embarked'] = train_df['Embarked'].fillna(train_df['Embarked'].mode()[0])\n",
    "# train_df.isnull().sum()"
   ]
  },
  {
   "cell_type": "code",
   "execution_count": 9,
   "id": "d966d05c",
   "metadata": {
    "execution": {
     "iopub.execute_input": "2022-06-29T14:30:40.005096Z",
     "iopub.status.busy": "2022-06-29T14:30:40.004643Z",
     "iopub.status.idle": "2022-06-29T14:30:40.066913Z",
     "shell.execute_reply": "2022-06-29T14:30:40.066115Z"
    },
    "papermill": {
     "duration": 0.07981,
     "end_time": "2022-06-29T14:30:40.068784",
     "exception": false,
     "start_time": "2022-06-29T14:30:39.988974",
     "status": "completed"
    },
    "tags": []
   },
   "outputs": [
    {
     "data": {
      "text/html": [
       "<div>\n",
       "<style scoped>\n",
       "    .dataframe tbody tr th:only-of-type {\n",
       "        vertical-align: middle;\n",
       "    }\n",
       "\n",
       "    .dataframe tbody tr th {\n",
       "        vertical-align: top;\n",
       "    }\n",
       "\n",
       "    .dataframe thead th {\n",
       "        text-align: right;\n",
       "    }\n",
       "</style>\n",
       "<table border=\"1\" class=\"dataframe\">\n",
       "  <thead>\n",
       "    <tr style=\"text-align: right;\">\n",
       "      <th></th>\n",
       "      <th>PassengerId</th>\n",
       "      <th>Survived</th>\n",
       "      <th>Pclass</th>\n",
       "      <th>Name</th>\n",
       "      <th>Sex</th>\n",
       "      <th>Age</th>\n",
       "      <th>SibSp</th>\n",
       "      <th>Parch</th>\n",
       "      <th>Ticket</th>\n",
       "      <th>Fare</th>\n",
       "      <th>Cabin</th>\n",
       "      <th>Embarked</th>\n",
       "      <th>nickname</th>\n",
       "    </tr>\n",
       "  </thead>\n",
       "  <tbody>\n",
       "    <tr>\n",
       "      <th>0</th>\n",
       "      <td>1</td>\n",
       "      <td>0</td>\n",
       "      <td>3</td>\n",
       "      <td>Braund, Mr. Owen Harris</td>\n",
       "      <td>male</td>\n",
       "      <td>22.0</td>\n",
       "      <td>1</td>\n",
       "      <td>0</td>\n",
       "      <td>A/5 21171</td>\n",
       "      <td>7.2500</td>\n",
       "      <td>NaN</td>\n",
       "      <td>S</td>\n",
       "      <td>Mr</td>\n",
       "    </tr>\n",
       "    <tr>\n",
       "      <th>1</th>\n",
       "      <td>2</td>\n",
       "      <td>1</td>\n",
       "      <td>1</td>\n",
       "      <td>Cumings, Mrs. John Bradley (Florence Briggs Th...</td>\n",
       "      <td>female</td>\n",
       "      <td>38.0</td>\n",
       "      <td>1</td>\n",
       "      <td>0</td>\n",
       "      <td>PC 17599</td>\n",
       "      <td>71.2833</td>\n",
       "      <td>C85</td>\n",
       "      <td>C</td>\n",
       "      <td>Mrs</td>\n",
       "    </tr>\n",
       "    <tr>\n",
       "      <th>2</th>\n",
       "      <td>3</td>\n",
       "      <td>1</td>\n",
       "      <td>3</td>\n",
       "      <td>Heikkinen, Miss. Laina</td>\n",
       "      <td>female</td>\n",
       "      <td>26.0</td>\n",
       "      <td>0</td>\n",
       "      <td>0</td>\n",
       "      <td>STON/O2. 3101282</td>\n",
       "      <td>7.9250</td>\n",
       "      <td>NaN</td>\n",
       "      <td>S</td>\n",
       "      <td>Miss</td>\n",
       "    </tr>\n",
       "    <tr>\n",
       "      <th>3</th>\n",
       "      <td>4</td>\n",
       "      <td>1</td>\n",
       "      <td>1</td>\n",
       "      <td>Futrelle, Mrs. Jacques Heath (Lily May Peel)</td>\n",
       "      <td>female</td>\n",
       "      <td>35.0</td>\n",
       "      <td>1</td>\n",
       "      <td>0</td>\n",
       "      <td>113803</td>\n",
       "      <td>53.1000</td>\n",
       "      <td>C123</td>\n",
       "      <td>S</td>\n",
       "      <td>Mrs</td>\n",
       "    </tr>\n",
       "    <tr>\n",
       "      <th>4</th>\n",
       "      <td>5</td>\n",
       "      <td>0</td>\n",
       "      <td>3</td>\n",
       "      <td>Allen, Mr. William Henry</td>\n",
       "      <td>male</td>\n",
       "      <td>35.0</td>\n",
       "      <td>0</td>\n",
       "      <td>0</td>\n",
       "      <td>373450</td>\n",
       "      <td>8.0500</td>\n",
       "      <td>NaN</td>\n",
       "      <td>S</td>\n",
       "      <td>Mr</td>\n",
       "    </tr>\n",
       "  </tbody>\n",
       "</table>\n",
       "</div>"
      ],
      "text/plain": [
       "   PassengerId  Survived  Pclass  \\\n",
       "0            1         0       3   \n",
       "1            2         1       1   \n",
       "2            3         1       3   \n",
       "3            4         1       1   \n",
       "4            5         0       3   \n",
       "\n",
       "                                                Name     Sex   Age  SibSp  \\\n",
       "0                            Braund, Mr. Owen Harris    male  22.0      1   \n",
       "1  Cumings, Mrs. John Bradley (Florence Briggs Th...  female  38.0      1   \n",
       "2                             Heikkinen, Miss. Laina  female  26.0      0   \n",
       "3       Futrelle, Mrs. Jacques Heath (Lily May Peel)  female  35.0      1   \n",
       "4                           Allen, Mr. William Henry    male  35.0      0   \n",
       "\n",
       "   Parch            Ticket     Fare Cabin Embarked nickname  \n",
       "0      0         A/5 21171   7.2500   NaN        S       Mr  \n",
       "1      0          PC 17599  71.2833   C85        C      Mrs  \n",
       "2      0  STON/O2. 3101282   7.9250   NaN        S     Miss  \n",
       "3      0            113803  53.1000  C123        S      Mrs  \n",
       "4      0            373450   8.0500   NaN        S       Mr  "
      ]
     },
     "execution_count": 9,
     "metadata": {},
     "output_type": "execute_result"
    }
   ],
   "source": [
    "train_df['nickname']=0\n",
    "for i in train_df:\n",
    "    train_df['nickname']=train_df.Name.str.extract('([A-Za-z]+)\\.')\n",
    "\n",
    "train_df.head()"
   ]
  },
  {
   "cell_type": "code",
   "execution_count": 10,
   "id": "a1051a1c",
   "metadata": {
    "execution": {
     "iopub.execute_input": "2022-06-29T14:30:40.098934Z",
     "iopub.status.busy": "2022-06-29T14:30:40.098682Z",
     "iopub.status.idle": "2022-06-29T14:30:40.170514Z",
     "shell.execute_reply": "2022-06-29T14:30:40.169611Z"
    },
    "papermill": {
     "duration": 0.088996,
     "end_time": "2022-06-29T14:30:40.172370",
     "exception": false,
     "start_time": "2022-06-29T14:30:40.083374",
     "status": "completed"
    },
    "tags": []
   },
   "outputs": [
    {
     "data": {
      "text/html": [
       "<style type=\"text/css\">\n",
       "</style>\n",
       "<table id=\"T_20f4c_\">\n",
       "  <thead>\n",
       "    <tr>\n",
       "      <th class=\"index_name level0\" >nickname</th>\n",
       "      <th class=\"col_heading level0 col0\" >Capt</th>\n",
       "      <th class=\"col_heading level0 col1\" >Col</th>\n",
       "      <th class=\"col_heading level0 col2\" >Countess</th>\n",
       "      <th class=\"col_heading level0 col3\" >Don</th>\n",
       "      <th class=\"col_heading level0 col4\" >Dr</th>\n",
       "      <th class=\"col_heading level0 col5\" >Jonkheer</th>\n",
       "      <th class=\"col_heading level0 col6\" >Lady</th>\n",
       "      <th class=\"col_heading level0 col7\" >Major</th>\n",
       "      <th class=\"col_heading level0 col8\" >Master</th>\n",
       "      <th class=\"col_heading level0 col9\" >Miss</th>\n",
       "      <th class=\"col_heading level0 col10\" >Mlle</th>\n",
       "      <th class=\"col_heading level0 col11\" >Mme</th>\n",
       "      <th class=\"col_heading level0 col12\" >Mr</th>\n",
       "      <th class=\"col_heading level0 col13\" >Mrs</th>\n",
       "      <th class=\"col_heading level0 col14\" >Ms</th>\n",
       "      <th class=\"col_heading level0 col15\" >Rev</th>\n",
       "      <th class=\"col_heading level0 col16\" >Sir</th>\n",
       "    </tr>\n",
       "    <tr>\n",
       "      <th class=\"index_name level0\" >Sex</th>\n",
       "      <th class=\"blank col0\" >&nbsp;</th>\n",
       "      <th class=\"blank col1\" >&nbsp;</th>\n",
       "      <th class=\"blank col2\" >&nbsp;</th>\n",
       "      <th class=\"blank col3\" >&nbsp;</th>\n",
       "      <th class=\"blank col4\" >&nbsp;</th>\n",
       "      <th class=\"blank col5\" >&nbsp;</th>\n",
       "      <th class=\"blank col6\" >&nbsp;</th>\n",
       "      <th class=\"blank col7\" >&nbsp;</th>\n",
       "      <th class=\"blank col8\" >&nbsp;</th>\n",
       "      <th class=\"blank col9\" >&nbsp;</th>\n",
       "      <th class=\"blank col10\" >&nbsp;</th>\n",
       "      <th class=\"blank col11\" >&nbsp;</th>\n",
       "      <th class=\"blank col12\" >&nbsp;</th>\n",
       "      <th class=\"blank col13\" >&nbsp;</th>\n",
       "      <th class=\"blank col14\" >&nbsp;</th>\n",
       "      <th class=\"blank col15\" >&nbsp;</th>\n",
       "      <th class=\"blank col16\" >&nbsp;</th>\n",
       "    </tr>\n",
       "  </thead>\n",
       "  <tbody>\n",
       "    <tr>\n",
       "      <th id=\"T_20f4c_level0_row0\" class=\"row_heading level0 row0\" >female</th>\n",
       "      <td id=\"T_20f4c_row0_col0\" class=\"data row0 col0\" >0</td>\n",
       "      <td id=\"T_20f4c_row0_col1\" class=\"data row0 col1\" >0</td>\n",
       "      <td id=\"T_20f4c_row0_col2\" class=\"data row0 col2\" >1</td>\n",
       "      <td id=\"T_20f4c_row0_col3\" class=\"data row0 col3\" >0</td>\n",
       "      <td id=\"T_20f4c_row0_col4\" class=\"data row0 col4\" >1</td>\n",
       "      <td id=\"T_20f4c_row0_col5\" class=\"data row0 col5\" >0</td>\n",
       "      <td id=\"T_20f4c_row0_col6\" class=\"data row0 col6\" >1</td>\n",
       "      <td id=\"T_20f4c_row0_col7\" class=\"data row0 col7\" >0</td>\n",
       "      <td id=\"T_20f4c_row0_col8\" class=\"data row0 col8\" >0</td>\n",
       "      <td id=\"T_20f4c_row0_col9\" class=\"data row0 col9\" >182</td>\n",
       "      <td id=\"T_20f4c_row0_col10\" class=\"data row0 col10\" >2</td>\n",
       "      <td id=\"T_20f4c_row0_col11\" class=\"data row0 col11\" >1</td>\n",
       "      <td id=\"T_20f4c_row0_col12\" class=\"data row0 col12\" >0</td>\n",
       "      <td id=\"T_20f4c_row0_col13\" class=\"data row0 col13\" >125</td>\n",
       "      <td id=\"T_20f4c_row0_col14\" class=\"data row0 col14\" >1</td>\n",
       "      <td id=\"T_20f4c_row0_col15\" class=\"data row0 col15\" >0</td>\n",
       "      <td id=\"T_20f4c_row0_col16\" class=\"data row0 col16\" >0</td>\n",
       "    </tr>\n",
       "    <tr>\n",
       "      <th id=\"T_20f4c_level0_row1\" class=\"row_heading level0 row1\" >male</th>\n",
       "      <td id=\"T_20f4c_row1_col0\" class=\"data row1 col0\" >1</td>\n",
       "      <td id=\"T_20f4c_row1_col1\" class=\"data row1 col1\" >2</td>\n",
       "      <td id=\"T_20f4c_row1_col2\" class=\"data row1 col2\" >0</td>\n",
       "      <td id=\"T_20f4c_row1_col3\" class=\"data row1 col3\" >1</td>\n",
       "      <td id=\"T_20f4c_row1_col4\" class=\"data row1 col4\" >6</td>\n",
       "      <td id=\"T_20f4c_row1_col5\" class=\"data row1 col5\" >1</td>\n",
       "      <td id=\"T_20f4c_row1_col6\" class=\"data row1 col6\" >0</td>\n",
       "      <td id=\"T_20f4c_row1_col7\" class=\"data row1 col7\" >2</td>\n",
       "      <td id=\"T_20f4c_row1_col8\" class=\"data row1 col8\" >40</td>\n",
       "      <td id=\"T_20f4c_row1_col9\" class=\"data row1 col9\" >0</td>\n",
       "      <td id=\"T_20f4c_row1_col10\" class=\"data row1 col10\" >0</td>\n",
       "      <td id=\"T_20f4c_row1_col11\" class=\"data row1 col11\" >0</td>\n",
       "      <td id=\"T_20f4c_row1_col12\" class=\"data row1 col12\" >517</td>\n",
       "      <td id=\"T_20f4c_row1_col13\" class=\"data row1 col13\" >0</td>\n",
       "      <td id=\"T_20f4c_row1_col14\" class=\"data row1 col14\" >0</td>\n",
       "      <td id=\"T_20f4c_row1_col15\" class=\"data row1 col15\" >6</td>\n",
       "      <td id=\"T_20f4c_row1_col16\" class=\"data row1 col16\" >1</td>\n",
       "    </tr>\n",
       "  </tbody>\n",
       "</table>\n"
      ],
      "text/plain": [
       "<pandas.io.formats.style.Styler at 0x7f83ab07acd0>"
      ]
     },
     "execution_count": 10,
     "metadata": {},
     "output_type": "execute_result"
    }
   ],
   "source": [
    "pd.crosstab(train_df.nickname,train_df.Sex).T.style"
   ]
  },
  {
   "cell_type": "code",
   "execution_count": 11,
   "id": "ee65677d",
   "metadata": {
    "execution": {
     "iopub.execute_input": "2022-06-29T14:30:40.203926Z",
     "iopub.status.busy": "2022-06-29T14:30:40.203674Z",
     "iopub.status.idle": "2022-06-29T14:30:40.211874Z",
     "shell.execute_reply": "2022-06-29T14:30:40.211065Z"
    },
    "papermill": {
     "duration": 0.026015,
     "end_time": "2022-06-29T14:30:40.213849",
     "exception": false,
     "start_time": "2022-06-29T14:30:40.187834",
     "status": "completed"
    },
    "tags": []
   },
   "outputs": [],
   "source": [
    "train_df['nickname'].replace(['Mlle','Mme','Ms','Dr','Major','Lady','Countess','Jonkheer','Col','Rev','Capt','Sir','Don'],\n",
    "                            ['Miss','Miss','Miss','Mr','Mr','Mrs','Mrs','Other','Other','Other','Mr','Mr','Mr'],inplace=True)"
   ]
  },
  {
   "cell_type": "code",
   "execution_count": 12,
   "id": "7b15947a",
   "metadata": {
    "execution": {
     "iopub.execute_input": "2022-06-29T14:30:40.245007Z",
     "iopub.status.busy": "2022-06-29T14:30:40.244220Z",
     "iopub.status.idle": "2022-06-29T14:30:40.255528Z",
     "shell.execute_reply": "2022-06-29T14:30:40.254577Z"
    },
    "papermill": {
     "duration": 0.028826,
     "end_time": "2022-06-29T14:30:40.257433",
     "exception": false,
     "start_time": "2022-06-29T14:30:40.228607",
     "status": "completed"
    },
    "tags": []
   },
   "outputs": [
    {
     "data": {
      "text/html": [
       "<div>\n",
       "<style scoped>\n",
       "    .dataframe tbody tr th:only-of-type {\n",
       "        vertical-align: middle;\n",
       "    }\n",
       "\n",
       "    .dataframe tbody tr th {\n",
       "        vertical-align: top;\n",
       "    }\n",
       "\n",
       "    .dataframe thead th {\n",
       "        text-align: right;\n",
       "    }\n",
       "</style>\n",
       "<table border=\"1\" class=\"dataframe\">\n",
       "  <thead>\n",
       "    <tr style=\"text-align: right;\">\n",
       "      <th></th>\n",
       "      <th>Age</th>\n",
       "    </tr>\n",
       "    <tr>\n",
       "      <th>nickname</th>\n",
       "      <th></th>\n",
       "    </tr>\n",
       "  </thead>\n",
       "  <tbody>\n",
       "    <tr>\n",
       "      <th>Master</th>\n",
       "      <td>4.574167</td>\n",
       "    </tr>\n",
       "    <tr>\n",
       "      <th>Miss</th>\n",
       "      <td>21.860000</td>\n",
       "    </tr>\n",
       "    <tr>\n",
       "      <th>Mr</th>\n",
       "      <td>32.739609</td>\n",
       "    </tr>\n",
       "    <tr>\n",
       "      <th>Mrs</th>\n",
       "      <td>35.981818</td>\n",
       "    </tr>\n",
       "    <tr>\n",
       "      <th>Other</th>\n",
       "      <td>45.888889</td>\n",
       "    </tr>\n",
       "  </tbody>\n",
       "</table>\n",
       "</div>"
      ],
      "text/plain": [
       "                Age\n",
       "nickname           \n",
       "Master     4.574167\n",
       "Miss      21.860000\n",
       "Mr        32.739609\n",
       "Mrs       35.981818\n",
       "Other     45.888889"
      ]
     },
     "execution_count": 12,
     "metadata": {},
     "output_type": "execute_result"
    }
   ],
   "source": [
    "train_df.groupby('nickname')[['Age']].mean()"
   ]
  },
  {
   "cell_type": "code",
   "execution_count": 13,
   "id": "d12b7b13",
   "metadata": {
    "execution": {
     "iopub.execute_input": "2022-06-29T14:30:40.289659Z",
     "iopub.status.busy": "2022-06-29T14:30:40.288346Z",
     "iopub.status.idle": "2022-06-29T14:30:40.300870Z",
     "shell.execute_reply": "2022-06-29T14:30:40.300057Z"
    },
    "papermill": {
     "duration": 0.030244,
     "end_time": "2022-06-29T14:30:40.302961",
     "exception": false,
     "start_time": "2022-06-29T14:30:40.272717",
     "status": "completed"
    },
    "tags": []
   },
   "outputs": [],
   "source": [
    "train_df.loc[(train_df.Age.isnull())&(train_df.nickname=='Mr'),'Age']=33\n",
    "train_df.loc[(train_df.Age.isnull())&(train_df.nickname=='Mrs'),'Age']=36\n",
    "train_df.loc[(train_df.Age.isnull())&(train_df.nickname=='Master'),'Age']=5\n",
    "train_df.loc[(train_df.Age.isnull())&(train_df.nickname=='Miss'),'Age']=22\n",
    "train_df.loc[(train_df.Age.isnull())&(train_df.nickname=='Other'),'Age']=46"
   ]
  },
  {
   "cell_type": "code",
   "execution_count": 14,
   "id": "da8441f5",
   "metadata": {
    "execution": {
     "iopub.execute_input": "2022-06-29T14:30:40.334325Z",
     "iopub.status.busy": "2022-06-29T14:30:40.333587Z",
     "iopub.status.idle": "2022-06-29T14:30:40.337491Z",
     "shell.execute_reply": "2022-06-29T14:30:40.336582Z"
    },
    "papermill": {
     "duration": 0.02145,
     "end_time": "2022-06-29T14:30:40.339406",
     "exception": false,
     "start_time": "2022-06-29T14:30:40.317956",
     "status": "completed"
    },
    "tags": []
   },
   "outputs": [],
   "source": [
    "# round((train_df.isnull().sum()/len(train_df))*100,2).sort_values(ascending= False)"
   ]
  },
  {
   "cell_type": "markdown",
   "id": "d4022242",
   "metadata": {
    "papermill": {
     "duration": 0.014754,
     "end_time": "2022-06-29T14:30:40.369301",
     "exception": false,
     "start_time": "2022-06-29T14:30:40.354547",
     "status": "completed"
    },
    "tags": []
   },
   "source": [
    "### Explaratory Data Anlysis"
   ]
  },
  {
   "cell_type": "code",
   "execution_count": 15,
   "id": "0c2de314",
   "metadata": {
    "execution": {
     "iopub.execute_input": "2022-06-29T14:30:40.400819Z",
     "iopub.status.busy": "2022-06-29T14:30:40.400031Z",
     "iopub.status.idle": "2022-06-29T14:30:41.183645Z",
     "shell.execute_reply": "2022-06-29T14:30:41.182671Z"
    },
    "papermill": {
     "duration": 0.80171,
     "end_time": "2022-06-29T14:30:41.186102",
     "exception": false,
     "start_time": "2022-06-29T14:30:40.384392",
     "status": "completed"
    },
    "tags": []
   },
   "outputs": [
    {
     "data": {
      "image/png": "[encoded data removed]",
      "text/plain": [
       "<Figure size 1080x576 with 6 Axes>"
      ]
     },
     "metadata": {
      "needs_background": "light"
     },
     "output_type": "display_data"
    }
   ],
   "source": [
    "# Survived type, Calss and Embarked Explaratory\n",
    "f,ax=plt.subplots(2,3,figsize=(15,8))\n",
    "\n",
    "train_df['Survived'].value_counts().plot.pie(explode=[0,0.1],autopct='%1.1f%%',shadow=True,ax=ax[0,0],colors=['#c24d2c','#2b4353'])\n",
    "ax[0,0].set_title('Survived Percentage')\n",
    "sns.countplot(x=train_df['Survived'],ax=ax[1,0],palette='Blues_d')\n",
    "ax[1,0].set_title('Survived Count')\n",
    "\n",
    "train_df['Pclass'].value_counts().plot.pie(explode=[0,0.1,0.1],autopct='%1.1f%%',shadow=True,ax=ax[0,1],colors=['#c24d2c','#2b4353','#d9dad7'])\n",
    "ax[0,1].set_title('Passenger Classes Percentage')\n",
    "sns.countplot(x=train_df['Pclass'],ax=ax[1,1],palette='Blues_d')\n",
    "ax[1,1].set_title('Passenger Classes Count')\n",
    "\n",
    "train_df['Embarked'].value_counts().plot.pie(explode=[0,0.1,0.1],autopct='%1.1f%%',shadow=True,ax=ax[0,2],colors=['#c24d2c','#2b4353','#d9dad7'])\n",
    "ax[0,2].set_title('Embarked Percentage')\n",
    "sns.countplot(x=train_df['Embarked'],ax=ax[1,2],palette='Blues_d')\n",
    "ax[1,2].set_title('Embarked Count')\n",
    "\n",
    "plt.show()"
   ]
  },
  {
   "cell_type": "code",
   "execution_count": 16,
   "id": "9c0f1791",
   "metadata": {
    "execution": {
     "iopub.execute_input": "2022-06-29T14:30:41.219742Z",
     "iopub.status.busy": "2022-06-29T14:30:41.218971Z",
     "iopub.status.idle": "2022-06-29T14:30:41.223987Z",
     "shell.execute_reply": "2022-06-29T14:30:41.222984Z"
    },
    "papermill": {
     "duration": 0.023662,
     "end_time": "2022-06-29T14:30:41.225932",
     "exception": false,
     "start_time": "2022-06-29T14:30:41.202270",
     "status": "completed"
    },
    "tags": []
   },
   "outputs": [],
   "source": [
    "#Total passenger per Survived type\n",
    "# train_df.groupby(['Pclass','Survived'])['Survived'].count()"
   ]
  },
  {
   "cell_type": "code",
   "execution_count": 17,
   "id": "d1ce5951",
   "metadata": {
    "execution": {
     "iopub.execute_input": "2022-06-29T14:30:41.259731Z",
     "iopub.status.busy": "2022-06-29T14:30:41.259440Z",
     "iopub.status.idle": "2022-06-29T14:30:41.765353Z",
     "shell.execute_reply": "2022-06-29T14:30:41.764444Z"
    },
    "papermill": {
     "duration": 0.525148,
     "end_time": "2022-06-29T14:30:41.767350",
     "exception": false,
     "start_time": "2022-06-29T14:30:41.242202",
     "status": "completed"
    },
    "tags": []
   },
   "outputs": [
    {
     "data": {
      "text/plain": [
       "Text(0.5, 1.0, 'Avg Survived female')"
      ]
     },
     "execution_count": 17,
     "metadata": {},
     "output_type": "execute_result"
    },
    {
     "data": {
      "image/png": "[encoded data removed]",
      "text/plain": [
       "<Figure size 720x288 with 2 Axes>"
      ]
     },
     "metadata": {
      "needs_background": "light"
     },
     "output_type": "display_data"
    }
   ],
   "source": [
    "# Plotting Age Distribution based on Survived and Sex Categories\n",
    "feature, axes = plt.subplots(1, 2, figsize = (10, 4))\n",
    "ax = sns.distplot(train_df[(train_df['Sex']=='male') & (train_df['Survived'] == 1)].Age.dropna(), bins = 20,\n",
    "                  label = 'Not Dead',ax = axes[0], kde = False)\n",
    "ax = sns.distplot(train_df[(train_df['Sex']=='male') & (train_df['Survived'] == 0)].Age.dropna(), bins = 40,\n",
    "                  label = 'Dead', ax = axes[0], kde = False)\n",
    "ax.legend()\n",
    "                  \n",
    "ax.set_title('Avg Survived male')\n",
    "ax = sns.distplot(train_df[(train_df['Sex']=='female') & (train_df['Survived'] == 1)].Age.dropna(), bins = 20,\n",
    "                  label = 'Not Dead', ax = axes[1], kde = False)\n",
    "ax = sns.distplot(train_df[(train_df['Sex']=='female') & (train_df['Survived'] == 0)].Age.dropna(), bins = 40,\n",
    "                  label = 'Dead', ax = axes[1], kde = False)\n",
    "ax.legend()\n",
    "ax.set_title('Avg Survived female')"
   ]
  },
  {
   "cell_type": "code",
   "execution_count": 18,
   "id": "513e38bd",
   "metadata": {
    "execution": {
     "iopub.execute_input": "2022-06-29T14:30:41.802363Z",
     "iopub.status.busy": "2022-06-29T14:30:41.801708Z",
     "iopub.status.idle": "2022-06-29T14:30:41.836550Z",
     "shell.execute_reply": "2022-06-29T14:30:41.835710Z"
    },
    "papermill": {
     "duration": 0.05467,
     "end_time": "2022-06-29T14:30:41.838513",
     "exception": false,
     "start_time": "2022-06-29T14:30:41.783843",
     "status": "completed"
    },
    "tags": []
   },
   "outputs": [
    {
     "data": {
      "text/html": [
       "<div>\n",
       "<style scoped>\n",
       "    .dataframe tbody tr th:only-of-type {\n",
       "        vertical-align: middle;\n",
       "    }\n",
       "\n",
       "    .dataframe tbody tr th {\n",
       "        vertical-align: top;\n",
       "    }\n",
       "\n",
       "    .dataframe thead th {\n",
       "        text-align: right;\n",
       "    }\n",
       "</style>\n",
       "<table border=\"1\" class=\"dataframe\">\n",
       "  <thead>\n",
       "    <tr style=\"text-align: right;\">\n",
       "      <th>Survived</th>\n",
       "      <th>0</th>\n",
       "      <th>1</th>\n",
       "      <th>All</th>\n",
       "    </tr>\n",
       "    <tr>\n",
       "      <th>Pclass</th>\n",
       "      <th></th>\n",
       "      <th></th>\n",
       "      <th></th>\n",
       "    </tr>\n",
       "  </thead>\n",
       "  <tbody>\n",
       "    <tr>\n",
       "      <th>1</th>\n",
       "      <td>80</td>\n",
       "      <td>136</td>\n",
       "      <td>216</td>\n",
       "    </tr>\n",
       "    <tr>\n",
       "      <th>2</th>\n",
       "      <td>97</td>\n",
       "      <td>87</td>\n",
       "      <td>184</td>\n",
       "    </tr>\n",
       "    <tr>\n",
       "      <th>3</th>\n",
       "      <td>372</td>\n",
       "      <td>119</td>\n",
       "      <td>491</td>\n",
       "    </tr>\n",
       "    <tr>\n",
       "      <th>All</th>\n",
       "      <td>549</td>\n",
       "      <td>342</td>\n",
       "      <td>891</td>\n",
       "    </tr>\n",
       "  </tbody>\n",
       "</table>\n",
       "</div>"
      ],
      "text/plain": [
       "Survived    0    1  All\n",
       "Pclass                 \n",
       "1          80  136  216\n",
       "2          97   87  184\n",
       "3         372  119  491\n",
       "All       549  342  891"
      ]
     },
     "execution_count": 18,
     "metadata": {},
     "output_type": "execute_result"
    }
   ],
   "source": [
    "#Total passenger per Survived type\n",
    "pd.crosstab(train_df.Pclass,train_df.Survived,margins=True)"
   ]
  },
  {
   "cell_type": "code",
   "execution_count": 19,
   "id": "4d126897",
   "metadata": {
    "execution": {
     "iopub.execute_input": "2022-06-29T14:30:41.872641Z",
     "iopub.status.busy": "2022-06-29T14:30:41.871835Z",
     "iopub.status.idle": "2022-06-29T14:30:43.172838Z",
     "shell.execute_reply": "2022-06-29T14:30:43.171933Z"
    },
    "papermill": {
     "duration": 1.320245,
     "end_time": "2022-06-29T14:30:43.174915",
     "exception": false,
     "start_time": "2022-06-29T14:30:41.854670",
     "status": "completed"
    },
    "tags": []
   },
   "outputs": [
    {
     "data": {
      "text/plain": [
       "<seaborn.axisgrid.FacetGrid at 0x7f83a89b80d0>"
      ]
     },
     "execution_count": 19,
     "metadata": {},
     "output_type": "execute_result"
    },
    {
     "data": {
      "image/png": "[encoded data removed]",
      "text/plain": [
       "<Figure size 641.6x475.2 with 6 Axes>"
      ]
     },
     "metadata": {
      "needs_background": "light"
     },
     "output_type": "display_data"
    }
   ],
   "source": [
    "#plotting age distribution based on class and survived categories\n",
    "grid = sns.FacetGrid(train_df, col= 'Survived', row= 'Pclass', size= 2.2, aspect= 2.0)\n",
    "grid.map(plt.hist,'Age', alpha = 0.7, bins = 20)\n",
    "grid.add_legend()"
   ]
  },
  {
   "cell_type": "code",
   "execution_count": 20,
   "id": "80ac02c4",
   "metadata": {
    "execution": {
     "iopub.execute_input": "2022-06-29T14:30:43.210255Z",
     "iopub.status.busy": "2022-06-29T14:30:43.209950Z",
     "iopub.status.idle": "2022-06-29T14:30:43.213973Z",
     "shell.execute_reply": "2022-06-29T14:30:43.212988Z"
    },
    "papermill": {
     "duration": 0.023889,
     "end_time": "2022-06-29T14:30:43.216107",
     "exception": false,
     "start_time": "2022-06-29T14:30:43.192218",
     "status": "completed"
    },
    "tags": []
   },
   "outputs": [],
   "source": [
    "#Total Sex per Survived type\n",
    "# train_df.groupby(['Sex','Survived'])['Survived'].count()"
   ]
  },
  {
   "cell_type": "code",
   "execution_count": 21,
   "id": "a6ebc863",
   "metadata": {
    "execution": {
     "iopub.execute_input": "2022-06-29T14:30:43.251445Z",
     "iopub.status.busy": "2022-06-29T14:30:43.250912Z",
     "iopub.status.idle": "2022-06-29T14:30:43.282801Z",
     "shell.execute_reply": "2022-06-29T14:30:43.281818Z"
    },
    "papermill": {
     "duration": 0.052207,
     "end_time": "2022-06-29T14:30:43.284919",
     "exception": false,
     "start_time": "2022-06-29T14:30:43.232712",
     "status": "completed"
    },
    "tags": []
   },
   "outputs": [
    {
     "data": {
      "text/html": [
       "<div>\n",
       "<style scoped>\n",
       "    .dataframe tbody tr th:only-of-type {\n",
       "        vertical-align: middle;\n",
       "    }\n",
       "\n",
       "    .dataframe tbody tr th {\n",
       "        vertical-align: top;\n",
       "    }\n",
       "\n",
       "    .dataframe thead th {\n",
       "        text-align: right;\n",
       "    }\n",
       "</style>\n",
       "<table border=\"1\" class=\"dataframe\">\n",
       "  <thead>\n",
       "    <tr style=\"text-align: right;\">\n",
       "      <th>Survived</th>\n",
       "      <th>0</th>\n",
       "      <th>1</th>\n",
       "      <th>All</th>\n",
       "    </tr>\n",
       "    <tr>\n",
       "      <th>Sex</th>\n",
       "      <th></th>\n",
       "      <th></th>\n",
       "      <th></th>\n",
       "    </tr>\n",
       "  </thead>\n",
       "  <tbody>\n",
       "    <tr>\n",
       "      <th>female</th>\n",
       "      <td>81</td>\n",
       "      <td>233</td>\n",
       "      <td>314</td>\n",
       "    </tr>\n",
       "    <tr>\n",
       "      <th>male</th>\n",
       "      <td>468</td>\n",
       "      <td>109</td>\n",
       "      <td>577</td>\n",
       "    </tr>\n",
       "    <tr>\n",
       "      <th>All</th>\n",
       "      <td>549</td>\n",
       "      <td>342</td>\n",
       "      <td>891</td>\n",
       "    </tr>\n",
       "  </tbody>\n",
       "</table>\n",
       "</div>"
      ],
      "text/plain": [
       "Survived    0    1  All\n",
       "Sex                    \n",
       "female     81  233  314\n",
       "male      468  109  577\n",
       "All       549  342  891"
      ]
     },
     "execution_count": 21,
     "metadata": {},
     "output_type": "execute_result"
    }
   ],
   "source": [
    "#Total Sex per Survived type\n",
    "pd.crosstab(train_df.Sex,train_df.Survived,margins=True)"
   ]
  },
  {
   "cell_type": "code",
   "execution_count": 22,
   "id": "1ed37871",
   "metadata": {
    "execution": {
     "iopub.execute_input": "2022-06-29T14:30:43.321475Z",
     "iopub.status.busy": "2022-06-29T14:30:43.321216Z",
     "iopub.status.idle": "2022-06-29T14:30:43.632385Z",
     "shell.execute_reply": "2022-06-29T14:30:43.631396Z"
    },
    "papermill": {
     "duration": 0.33241,
     "end_time": "2022-06-29T14:30:43.634238",
     "exception": false,
     "start_time": "2022-06-29T14:30:43.301828",
     "status": "completed"
    },
    "tags": []
   },
   "outputs": [
    {
     "data": {
      "text/plain": [
       "<seaborn.axisgrid.FacetGrid at 0x7f83a85e0910>"
      ]
     },
     "execution_count": 22,
     "metadata": {},
     "output_type": "execute_result"
    },
    {
     "data": {
      "image/png": "[encoded data removed]",
      "text/plain": [
       "<Figure size 584x144 with 2 Axes>"
      ]
     },
     "metadata": {
      "needs_background": "light"
     },
     "output_type": "display_data"
    }
   ],
   "source": [
    "#plotting Sex Count based on survived category\n",
    "grid = sns.FacetGrid(train_df, col= 'Survived', size= 2, aspect= 2)\n",
    "grid.map(sns.countplot,'Sex', alpha = 0.7)\n",
    "grid.add_legend()"
   ]
  },
  {
   "cell_type": "code",
   "execution_count": 23,
   "id": "98dbda37",
   "metadata": {
    "execution": {
     "iopub.execute_input": "2022-06-29T14:30:43.670864Z",
     "iopub.status.busy": "2022-06-29T14:30:43.670216Z",
     "iopub.status.idle": "2022-06-29T14:30:43.674124Z",
     "shell.execute_reply": "2022-06-29T14:30:43.673230Z"
    },
    "papermill": {
     "duration": 0.023932,
     "end_time": "2022-06-29T14:30:43.675990",
     "exception": false,
     "start_time": "2022-06-29T14:30:43.652058",
     "status": "completed"
    },
    "tags": []
   },
   "outputs": [],
   "source": [
    "#Total passneger for each calss based on Sex and Survived categories\n",
    "# train_df.groupby(['Sex','Survived','Pclass'])['Pclass'].count()"
   ]
  },
  {
   "cell_type": "code",
   "execution_count": 24,
   "id": "dc746210",
   "metadata": {
    "execution": {
     "iopub.execute_input": "2022-06-29T14:30:43.711774Z",
     "iopub.status.busy": "2022-06-29T14:30:43.711519Z",
     "iopub.status.idle": "2022-06-29T14:30:43.746163Z",
     "shell.execute_reply": "2022-06-29T14:30:43.745162Z"
    },
    "papermill": {
     "duration": 0.055233,
     "end_time": "2022-06-29T14:30:43.748157",
     "exception": false,
     "start_time": "2022-06-29T14:30:43.692924",
     "status": "completed"
    },
    "tags": []
   },
   "outputs": [
    {
     "data": {
      "text/html": [
       "<div>\n",
       "<style scoped>\n",
       "    .dataframe tbody tr th:only-of-type {\n",
       "        vertical-align: middle;\n",
       "    }\n",
       "\n",
       "    .dataframe tbody tr th {\n",
       "        vertical-align: top;\n",
       "    }\n",
       "\n",
       "    .dataframe thead th {\n",
       "        text-align: right;\n",
       "    }\n",
       "</style>\n",
       "<table border=\"1\" class=\"dataframe\">\n",
       "  <thead>\n",
       "    <tr style=\"text-align: right;\">\n",
       "      <th></th>\n",
       "      <th>Pclass</th>\n",
       "      <th>1</th>\n",
       "      <th>2</th>\n",
       "      <th>3</th>\n",
       "      <th>All</th>\n",
       "    </tr>\n",
       "    <tr>\n",
       "      <th>Sex</th>\n",
       "      <th>Survived</th>\n",
       "      <th></th>\n",
       "      <th></th>\n",
       "      <th></th>\n",
       "      <th></th>\n",
       "    </tr>\n",
       "  </thead>\n",
       "  <tbody>\n",
       "    <tr>\n",
       "      <th rowspan=\"2\" valign=\"top\">female</th>\n",
       "      <th>0</th>\n",
       "      <td>3</td>\n",
       "      <td>6</td>\n",
       "      <td>72</td>\n",
       "      <td>81</td>\n",
       "    </tr>\n",
       "    <tr>\n",
       "      <th>1</th>\n",
       "      <td>91</td>\n",
       "      <td>70</td>\n",
       "      <td>72</td>\n",
       "      <td>233</td>\n",
       "    </tr>\n",
       "    <tr>\n",
       "      <th rowspan=\"2\" valign=\"top\">male</th>\n",
       "      <th>0</th>\n",
       "      <td>77</td>\n",
       "      <td>91</td>\n",
       "      <td>300</td>\n",
       "      <td>468</td>\n",
       "    </tr>\n",
       "    <tr>\n",
       "      <th>1</th>\n",
       "      <td>45</td>\n",
       "      <td>17</td>\n",
       "      <td>47</td>\n",
       "      <td>109</td>\n",
       "    </tr>\n",
       "    <tr>\n",
       "      <th>All</th>\n",
       "      <th></th>\n",
       "      <td>216</td>\n",
       "      <td>184</td>\n",
       "      <td>491</td>\n",
       "      <td>891</td>\n",
       "    </tr>\n",
       "  </tbody>\n",
       "</table>\n",
       "</div>"
      ],
      "text/plain": [
       "Pclass             1    2    3  All\n",
       "Sex    Survived                    \n",
       "female 0           3    6   72   81\n",
       "       1          91   70   72  233\n",
       "male   0          77   91  300  468\n",
       "       1          45   17   47  109\n",
       "All              216  184  491  891"
      ]
     },
     "execution_count": 24,
     "metadata": {},
     "output_type": "execute_result"
    }
   ],
   "source": [
    "#Total passneger for each calss based on Sex and Survived categories\n",
    "pd.crosstab([train_df.Sex,train_df.Survived],train_df.Pclass,margins=True)"
   ]
  },
  {
   "cell_type": "code",
   "execution_count": 25,
   "id": "a38d3451",
   "metadata": {
    "execution": {
     "iopub.execute_input": "2022-06-29T14:30:43.784321Z",
     "iopub.status.busy": "2022-06-29T14:30:43.783486Z",
     "iopub.status.idle": "2022-06-29T14:30:44.324439Z",
     "shell.execute_reply": "2022-06-29T14:30:44.323572Z"
    },
    "papermill": {
     "duration": 0.561017,
     "end_time": "2022-06-29T14:30:44.326378",
     "exception": false,
     "start_time": "2022-06-29T14:30:43.765361",
     "status": "completed"
    },
    "tags": []
   },
   "outputs": [
    {
     "data": {
      "text/plain": [
       "<seaborn.axisgrid.FacetGrid at 0x7f83a84d5990>"
      ]
     },
     "execution_count": 25,
     "metadata": {},
     "output_type": "execute_result"
    },
    {
     "data": {
      "image/png": "[encoded data removed]",
      "text/plain": [
       "<Figure size 584x288 with 4 Axes>"
      ]
     },
     "metadata": {
      "needs_background": "light"
     },
     "output_type": "display_data"
    }
   ],
   "source": [
    "#Plotting total passengers for each calss based on Sex and Survived categories\n",
    "grid = sns.FacetGrid(train_df, col= 'Sex', row='Survived' ,size= 2, aspect= 2)\n",
    "grid.map(sns.countplot,'Pclass', alpha = 0.7)\n",
    "grid.add_legend()"
   ]
  },
  {
   "cell_type": "code",
   "execution_count": 26,
   "id": "5593d634",
   "metadata": {
    "execution": {
     "iopub.execute_input": "2022-06-29T14:30:44.363379Z",
     "iopub.status.busy": "2022-06-29T14:30:44.363106Z",
     "iopub.status.idle": "2022-06-29T14:30:44.395085Z",
     "shell.execute_reply": "2022-06-29T14:30:44.394072Z"
    },
    "papermill": {
     "duration": 0.052447,
     "end_time": "2022-06-29T14:30:44.396958",
     "exception": false,
     "start_time": "2022-06-29T14:30:44.344511",
     "status": "completed"
    },
    "tags": []
   },
   "outputs": [
    {
     "data": {
      "text/html": [
       "<div>\n",
       "<style scoped>\n",
       "    .dataframe tbody tr th:only-of-type {\n",
       "        vertical-align: middle;\n",
       "    }\n",
       "\n",
       "    .dataframe tbody tr th {\n",
       "        vertical-align: top;\n",
       "    }\n",
       "\n",
       "    .dataframe thead th {\n",
       "        text-align: right;\n",
       "    }\n",
       "</style>\n",
       "<table border=\"1\" class=\"dataframe\">\n",
       "  <thead>\n",
       "    <tr style=\"text-align: right;\">\n",
       "      <th>Embarked</th>\n",
       "      <th>C</th>\n",
       "      <th>Q</th>\n",
       "      <th>S</th>\n",
       "      <th>All</th>\n",
       "    </tr>\n",
       "    <tr>\n",
       "      <th>Survived</th>\n",
       "      <th></th>\n",
       "      <th></th>\n",
       "      <th></th>\n",
       "      <th></th>\n",
       "    </tr>\n",
       "  </thead>\n",
       "  <tbody>\n",
       "    <tr>\n",
       "      <th>0</th>\n",
       "      <td>75</td>\n",
       "      <td>47</td>\n",
       "      <td>427</td>\n",
       "      <td>549</td>\n",
       "    </tr>\n",
       "    <tr>\n",
       "      <th>1</th>\n",
       "      <td>93</td>\n",
       "      <td>30</td>\n",
       "      <td>219</td>\n",
       "      <td>342</td>\n",
       "    </tr>\n",
       "    <tr>\n",
       "      <th>All</th>\n",
       "      <td>168</td>\n",
       "      <td>77</td>\n",
       "      <td>646</td>\n",
       "      <td>891</td>\n",
       "    </tr>\n",
       "  </tbody>\n",
       "</table>\n",
       "</div>"
      ],
      "text/plain": [
       "Embarked    C   Q    S  All\n",
       "Survived                   \n",
       "0          75  47  427  549\n",
       "1          93  30  219  342\n",
       "All       168  77  646  891"
      ]
     },
     "execution_count": 26,
     "metadata": {},
     "output_type": "execute_result"
    }
   ],
   "source": [
    "pd.crosstab([train_df.Survived],train_df.Embarked,margins=True)"
   ]
  },
  {
   "cell_type": "code",
   "execution_count": 27,
   "id": "9703d4f2",
   "metadata": {
    "execution": {
     "iopub.execute_input": "2022-06-29T14:30:44.433516Z",
     "iopub.status.busy": "2022-06-29T14:30:44.432997Z",
     "iopub.status.idle": "2022-06-29T14:30:44.751055Z",
     "shell.execute_reply": "2022-06-29T14:30:44.750134Z"
    },
    "papermill": {
     "duration": 0.338423,
     "end_time": "2022-06-29T14:30:44.753053",
     "exception": false,
     "start_time": "2022-06-29T14:30:44.414630",
     "status": "completed"
    },
    "tags": []
   },
   "outputs": [
    {
     "data": {
      "text/plain": [
       "<seaborn.axisgrid.FacetGrid at 0x7f83a84c1e50>"
      ]
     },
     "execution_count": 27,
     "metadata": {},
     "output_type": "execute_result"
    },
    {
     "data": {
      "image/png": "[encoded data removed]",
      "text/plain": [
       "<Figure size 584x144 with 2 Axes>"
      ]
     },
     "metadata": {
      "needs_background": "light"
     },
     "output_type": "display_data"
    }
   ],
   "source": [
    "grid = sns.FacetGrid(train_df, col= 'Survived' ,size= 2, aspect= 2)\n",
    "grid.map(sns.countplot,'Embarked', alpha = 0.7)\n",
    "grid.add_legend()"
   ]
  },
  {
   "cell_type": "code",
   "execution_count": 28,
   "id": "f4df780b",
   "metadata": {
    "execution": {
     "iopub.execute_input": "2022-06-29T14:30:44.791331Z",
     "iopub.status.busy": "2022-06-29T14:30:44.790733Z",
     "iopub.status.idle": "2022-06-29T14:30:45.800518Z",
     "shell.execute_reply": "2022-06-29T14:30:45.799627Z"
    },
    "papermill": {
     "duration": 1.030987,
     "end_time": "2022-06-29T14:30:45.802544",
     "exception": false,
     "start_time": "2022-06-29T14:30:44.771557",
     "status": "completed"
    },
    "tags": []
   },
   "outputs": [
    {
     "data": {
      "text/plain": [
       "<seaborn.axisgrid.FacetGrid at 0x7f83a82f9fd0>"
      ]
     },
     "execution_count": 28,
     "metadata": {},
     "output_type": "execute_result"
    },
    {
     "data": {
      "image/png": "[encoded data removed]",
      "text/plain": [
       "<Figure size 1107.3x216 with 3 Axes>"
      ]
     },
     "metadata": {
      "needs_background": "light"
     },
     "output_type": "display_data"
    }
   ],
   "source": [
    "#Embarked Survived Percentage For each Class and Sex Categories\n",
    "FacetGrid = sns.FacetGrid(train_df, col = 'Embarked', size = 3, aspect = 1.6)\n",
    "FacetGrid.map(sns.pointplot,'Pclass','Survived','Sex')\n",
    "FacetGrid.add_legend()"
   ]
  },
  {
   "cell_type": "code",
   "execution_count": 29,
   "id": "8730ea33",
   "metadata": {
    "execution": {
     "iopub.execute_input": "2022-06-29T14:30:45.842560Z",
     "iopub.status.busy": "2022-06-29T14:30:45.842281Z",
     "iopub.status.idle": "2022-06-29T14:30:46.242782Z",
     "shell.execute_reply": "2022-06-29T14:30:46.241934Z"
    },
    "papermill": {
     "duration": 0.422475,
     "end_time": "2022-06-29T14:30:46.244829",
     "exception": false,
     "start_time": "2022-06-29T14:30:45.822354",
     "status": "completed"
    },
    "tags": []
   },
   "outputs": [
    {
     "data": {
      "image/png": "[encoded data removed]",
      "text/plain": [
       "<Figure size 1080x360 with 2 Axes>"
      ]
     },
     "metadata": {
      "needs_background": "light"
     },
     "output_type": "display_data"
    }
   ],
   "source": [
    "# Plooting Age Distribution For each Class based on Survived type\n",
    "f,ax=plt.subplots(1,2,figsize=(15,5))\n",
    "sns.boxplot(\"Pclass\",\"Age\", hue=\"Survived\", data=train_df,ax=ax[0],palette='Blues_d')\n",
    "ax[0].set_title('Pclass and Age vs Survived')\n",
    "ax[0].set_yticks(range(0,110,10))\n",
    "sns.boxplot(\"Sex\",\"Age\", hue=\"Survived\", data=train_df,ax=ax[1],palette='Blues_d')\n",
    "ax[1].set_title('Sex and Age vs Survived')\n",
    "ax[1].set_yticks(range(0,110,10))\n",
    "plt.show()"
   ]
  },
  {
   "cell_type": "code",
   "execution_count": 30,
   "id": "10dcef39",
   "metadata": {
    "execution": {
     "iopub.execute_input": "2022-06-29T14:30:46.284000Z",
     "iopub.status.busy": "2022-06-29T14:30:46.283723Z",
     "iopub.status.idle": "2022-06-29T14:30:46.319444Z",
     "shell.execute_reply": "2022-06-29T14:30:46.318261Z"
    },
    "papermill": {
     "duration": 0.058018,
     "end_time": "2022-06-29T14:30:46.321979",
     "exception": false,
     "start_time": "2022-06-29T14:30:46.263961",
     "status": "completed"
    },
    "tags": []
   },
   "outputs": [
    {
     "data": {
      "text/html": [
       "<div>\n",
       "<style scoped>\n",
       "    .dataframe tbody tr th:only-of-type {\n",
       "        vertical-align: middle;\n",
       "    }\n",
       "\n",
       "    .dataframe tbody tr th {\n",
       "        vertical-align: top;\n",
       "    }\n",
       "\n",
       "    .dataframe thead th {\n",
       "        text-align: right;\n",
       "    }\n",
       "</style>\n",
       "<table border=\"1\" class=\"dataframe\">\n",
       "  <thead>\n",
       "    <tr style=\"text-align: right;\">\n",
       "      <th>SibSp</th>\n",
       "      <th>0</th>\n",
       "      <th>1</th>\n",
       "      <th>2</th>\n",
       "      <th>3</th>\n",
       "      <th>4</th>\n",
       "      <th>5</th>\n",
       "      <th>8</th>\n",
       "      <th>All</th>\n",
       "    </tr>\n",
       "    <tr>\n",
       "      <th>Survived</th>\n",
       "      <th></th>\n",
       "      <th></th>\n",
       "      <th></th>\n",
       "      <th></th>\n",
       "      <th></th>\n",
       "      <th></th>\n",
       "      <th></th>\n",
       "      <th></th>\n",
       "    </tr>\n",
       "  </thead>\n",
       "  <tbody>\n",
       "    <tr>\n",
       "      <th>0</th>\n",
       "      <td>398</td>\n",
       "      <td>97</td>\n",
       "      <td>15</td>\n",
       "      <td>12</td>\n",
       "      <td>15</td>\n",
       "      <td>5</td>\n",
       "      <td>7</td>\n",
       "      <td>549</td>\n",
       "    </tr>\n",
       "    <tr>\n",
       "      <th>1</th>\n",
       "      <td>210</td>\n",
       "      <td>112</td>\n",
       "      <td>13</td>\n",
       "      <td>4</td>\n",
       "      <td>3</td>\n",
       "      <td>0</td>\n",
       "      <td>0</td>\n",
       "      <td>342</td>\n",
       "    </tr>\n",
       "    <tr>\n",
       "      <th>All</th>\n",
       "      <td>608</td>\n",
       "      <td>209</td>\n",
       "      <td>28</td>\n",
       "      <td>16</td>\n",
       "      <td>18</td>\n",
       "      <td>5</td>\n",
       "      <td>7</td>\n",
       "      <td>891</td>\n",
       "    </tr>\n",
       "  </tbody>\n",
       "</table>\n",
       "</div>"
      ],
      "text/plain": [
       "SibSp       0    1   2   3   4  5  8  All\n",
       "Survived                                 \n",
       "0         398   97  15  12  15  5  7  549\n",
       "1         210  112  13   4   3  0  0  342\n",
       "All       608  209  28  16  18  5  7  891"
      ]
     },
     "execution_count": 30,
     "metadata": {},
     "output_type": "execute_result"
    }
   ],
   "source": [
    "pd.crosstab([train_df.Survived],train_df.SibSp,margins=True)"
   ]
  },
  {
   "cell_type": "code",
   "execution_count": 31,
   "id": "9f1e34f3",
   "metadata": {
    "execution": {
     "iopub.execute_input": "2022-06-29T14:30:46.360582Z",
     "iopub.status.busy": "2022-06-29T14:30:46.360317Z",
     "iopub.status.idle": "2022-06-29T14:30:46.713115Z",
     "shell.execute_reply": "2022-06-29T14:30:46.712145Z"
    },
    "papermill": {
     "duration": 0.374264,
     "end_time": "2022-06-29T14:30:46.715007",
     "exception": false,
     "start_time": "2022-06-29T14:30:46.340743",
     "status": "completed"
    },
    "tags": []
   },
   "outputs": [
    {
     "data": {
      "text/plain": [
       "<seaborn.axisgrid.FacetGrid at 0x7f83a8063210>"
      ]
     },
     "execution_count": 31,
     "metadata": {},
     "output_type": "execute_result"
    },
    {
     "data": {
      "image/png": "[encoded data removed]",
      "text/plain": [
       "<Figure size 584x144 with 2 Axes>"
      ]
     },
     "metadata": {
      "needs_background": "light"
     },
     "output_type": "display_data"
    }
   ],
   "source": [
    "grid = sns.FacetGrid(train_df, col= 'Survived' ,size= 2, aspect= 2)\n",
    "grid.map(sns.countplot,'SibSp', alpha = 0.7)\n",
    "grid.add_legend()"
   ]
  },
  {
   "cell_type": "code",
   "execution_count": 32,
   "id": "6a1529dc",
   "metadata": {
    "execution": {
     "iopub.execute_input": "2022-06-29T14:30:46.755743Z",
     "iopub.status.busy": "2022-06-29T14:30:46.754933Z",
     "iopub.status.idle": "2022-06-29T14:30:46.792204Z",
     "shell.execute_reply": "2022-06-29T14:30:46.791211Z"
    },
    "papermill": {
     "duration": 0.059576,
     "end_time": "2022-06-29T14:30:46.794264",
     "exception": false,
     "start_time": "2022-06-29T14:30:46.734688",
     "status": "completed"
    },
    "tags": []
   },
   "outputs": [
    {
     "data": {
      "text/html": [
       "<div>\n",
       "<style scoped>\n",
       "    .dataframe tbody tr th:only-of-type {\n",
       "        vertical-align: middle;\n",
       "    }\n",
       "\n",
       "    .dataframe tbody tr th {\n",
       "        vertical-align: top;\n",
       "    }\n",
       "\n",
       "    .dataframe thead th {\n",
       "        text-align: right;\n",
       "    }\n",
       "</style>\n",
       "<table border=\"1\" class=\"dataframe\">\n",
       "  <thead>\n",
       "    <tr style=\"text-align: right;\">\n",
       "      <th>Parch</th>\n",
       "      <th>0</th>\n",
       "      <th>1</th>\n",
       "      <th>2</th>\n",
       "      <th>3</th>\n",
       "      <th>4</th>\n",
       "      <th>5</th>\n",
       "      <th>6</th>\n",
       "      <th>All</th>\n",
       "    </tr>\n",
       "    <tr>\n",
       "      <th>Survived</th>\n",
       "      <th></th>\n",
       "      <th></th>\n",
       "      <th></th>\n",
       "      <th></th>\n",
       "      <th></th>\n",
       "      <th></th>\n",
       "      <th></th>\n",
       "      <th></th>\n",
       "    </tr>\n",
       "  </thead>\n",
       "  <tbody>\n",
       "    <tr>\n",
       "      <th>0</th>\n",
       "      <td>445</td>\n",
       "      <td>53</td>\n",
       "      <td>40</td>\n",
       "      <td>2</td>\n",
       "      <td>4</td>\n",
       "      <td>4</td>\n",
       "      <td>1</td>\n",
       "      <td>549</td>\n",
       "    </tr>\n",
       "    <tr>\n",
       "      <th>1</th>\n",
       "      <td>233</td>\n",
       "      <td>65</td>\n",
       "      <td>40</td>\n",
       "      <td>3</td>\n",
       "      <td>0</td>\n",
       "      <td>1</td>\n",
       "      <td>0</td>\n",
       "      <td>342</td>\n",
       "    </tr>\n",
       "    <tr>\n",
       "      <th>All</th>\n",
       "      <td>678</td>\n",
       "      <td>118</td>\n",
       "      <td>80</td>\n",
       "      <td>5</td>\n",
       "      <td>4</td>\n",
       "      <td>5</td>\n",
       "      <td>1</td>\n",
       "      <td>891</td>\n",
       "    </tr>\n",
       "  </tbody>\n",
       "</table>\n",
       "</div>"
      ],
      "text/plain": [
       "Parch       0    1   2  3  4  5  6  All\n",
       "Survived                               \n",
       "0         445   53  40  2  4  4  1  549\n",
       "1         233   65  40  3  0  1  0  342\n",
       "All       678  118  80  5  4  5  1  891"
      ]
     },
     "execution_count": 32,
     "metadata": {},
     "output_type": "execute_result"
    }
   ],
   "source": [
    "pd.crosstab([train_df.Survived],train_df.Parch,margins=True)"
   ]
  },
  {
   "cell_type": "code",
   "execution_count": 33,
   "id": "c1c13700",
   "metadata": {
    "execution": {
     "iopub.execute_input": "2022-06-29T14:30:46.834507Z",
     "iopub.status.busy": "2022-06-29T14:30:46.834242Z",
     "iopub.status.idle": "2022-06-29T14:30:47.194248Z",
     "shell.execute_reply": "2022-06-29T14:30:47.193276Z"
    },
    "papermill": {
     "duration": 0.38244,
     "end_time": "2022-06-29T14:30:47.196226",
     "exception": false,
     "start_time": "2022-06-29T14:30:46.813786",
     "status": "completed"
    },
    "tags": []
   },
   "outputs": [
    {
     "data": {
      "text/plain": [
       "<seaborn.axisgrid.FacetGrid at 0x7f83a7de0690>"
      ]
     },
     "execution_count": 33,
     "metadata": {},
     "output_type": "execute_result"
    },
    {
     "data": {
      "image/png": "[encoded data removed]",
      "text/plain": [
       "<Figure size 584x144 with 2 Axes>"
      ]
     },
     "metadata": {
      "needs_background": "light"
     },
     "output_type": "display_data"
    }
   ],
   "source": [
    "grid = sns.FacetGrid(train_df, col= 'Survived' ,size= 2, aspect= 2)\n",
    "grid.map(sns.countplot,'Parch', alpha = 0.7)\n",
    "grid.add_legend()"
   ]
  },
  {
   "cell_type": "code",
   "execution_count": 34,
   "id": "dfee784c",
   "metadata": {
    "execution": {
     "iopub.execute_input": "2022-06-29T14:30:47.238920Z",
     "iopub.status.busy": "2022-06-29T14:30:47.237581Z",
     "iopub.status.idle": "2022-06-29T14:30:47.252212Z",
     "shell.execute_reply": "2022-06-29T14:30:47.251274Z"
    },
    "papermill": {
     "duration": 0.037643,
     "end_time": "2022-06-29T14:30:47.254046",
     "exception": false,
     "start_time": "2022-06-29T14:30:47.216403",
     "status": "completed"
    },
    "tags": []
   },
   "outputs": [
    {
     "data": {
      "text/html": [
       "<div>\n",
       "<style scoped>\n",
       "    .dataframe tbody tr th:only-of-type {\n",
       "        vertical-align: middle;\n",
       "    }\n",
       "\n",
       "    .dataframe tbody tr th {\n",
       "        vertical-align: top;\n",
       "    }\n",
       "\n",
       "    .dataframe thead th {\n",
       "        text-align: right;\n",
       "    }\n",
       "</style>\n",
       "<table border=\"1\" class=\"dataframe\">\n",
       "  <thead>\n",
       "    <tr style=\"text-align: right;\">\n",
       "      <th></th>\n",
       "      <th>PassengerId</th>\n",
       "      <th>Survived</th>\n",
       "      <th>Pclass</th>\n",
       "      <th>Sex</th>\n",
       "      <th>Age</th>\n",
       "      <th>SibSp</th>\n",
       "      <th>Parch</th>\n",
       "      <th>Fare</th>\n",
       "      <th>Embarked</th>\n",
       "      <th>nickname</th>\n",
       "    </tr>\n",
       "  </thead>\n",
       "  <tbody>\n",
       "    <tr>\n",
       "      <th>0</th>\n",
       "      <td>1</td>\n",
       "      <td>0</td>\n",
       "      <td>3</td>\n",
       "      <td>male</td>\n",
       "      <td>22.0</td>\n",
       "      <td>1</td>\n",
       "      <td>0</td>\n",
       "      <td>7.2500</td>\n",
       "      <td>S</td>\n",
       "      <td>Mr</td>\n",
       "    </tr>\n",
       "    <tr>\n",
       "      <th>1</th>\n",
       "      <td>2</td>\n",
       "      <td>1</td>\n",
       "      <td>1</td>\n",
       "      <td>female</td>\n",
       "      <td>38.0</td>\n",
       "      <td>1</td>\n",
       "      <td>0</td>\n",
       "      <td>71.2833</td>\n",
       "      <td>C</td>\n",
       "      <td>Mrs</td>\n",
       "    </tr>\n",
       "    <tr>\n",
       "      <th>2</th>\n",
       "      <td>3</td>\n",
       "      <td>1</td>\n",
       "      <td>3</td>\n",
       "      <td>female</td>\n",
       "      <td>26.0</td>\n",
       "      <td>0</td>\n",
       "      <td>0</td>\n",
       "      <td>7.9250</td>\n",
       "      <td>S</td>\n",
       "      <td>Miss</td>\n",
       "    </tr>\n",
       "    <tr>\n",
       "      <th>3</th>\n",
       "      <td>4</td>\n",
       "      <td>1</td>\n",
       "      <td>1</td>\n",
       "      <td>female</td>\n",
       "      <td>35.0</td>\n",
       "      <td>1</td>\n",
       "      <td>0</td>\n",
       "      <td>53.1000</td>\n",
       "      <td>S</td>\n",
       "      <td>Mrs</td>\n",
       "    </tr>\n",
       "    <tr>\n",
       "      <th>4</th>\n",
       "      <td>5</td>\n",
       "      <td>0</td>\n",
       "      <td>3</td>\n",
       "      <td>male</td>\n",
       "      <td>35.0</td>\n",
       "      <td>0</td>\n",
       "      <td>0</td>\n",
       "      <td>8.0500</td>\n",
       "      <td>S</td>\n",
       "      <td>Mr</td>\n",
       "    </tr>\n",
       "  </tbody>\n",
       "</table>\n",
       "</div>"
      ],
      "text/plain": [
       "   PassengerId  Survived  Pclass     Sex   Age  SibSp  Parch     Fare  \\\n",
       "0            1         0       3    male  22.0      1      0   7.2500   \n",
       "1            2         1       1  female  38.0      1      0  71.2833   \n",
       "2            3         1       3  female  26.0      0      0   7.9250   \n",
       "3            4         1       1  female  35.0      1      0  53.1000   \n",
       "4            5         0       3    male  35.0      0      0   8.0500   \n",
       "\n",
       "  Embarked nickname  \n",
       "0        S       Mr  \n",
       "1        C      Mrs  \n",
       "2        S     Miss  \n",
       "3        S      Mrs  \n",
       "4        S       Mr  "
      ]
     },
     "execution_count": 34,
     "metadata": {},
     "output_type": "execute_result"
    }
   ],
   "source": [
    "train_df = train_df.drop(columns=['Name','Ticket','Cabin'])\n",
    "train_df.head()"
   ]
  },
  {
   "cell_type": "code",
   "execution_count": 35,
   "id": "24cc53fd",
   "metadata": {
    "execution": {
     "iopub.execute_input": "2022-06-29T14:30:47.296426Z",
     "iopub.status.busy": "2022-06-29T14:30:47.295838Z",
     "iopub.status.idle": "2022-06-29T14:30:47.470360Z",
     "shell.execute_reply": "2022-06-29T14:30:47.469485Z"
    },
    "papermill": {
     "duration": 0.197963,
     "end_time": "2022-06-29T14:30:47.472653",
     "exception": false,
     "start_time": "2022-06-29T14:30:47.274690",
     "status": "completed"
    },
    "tags": []
   },
   "outputs": [
    {
     "data": {
      "image/png": "[encoded data removed]",
      "text/plain": [
       "<Figure size 432x288 with 1 Axes>"
      ]
     },
     "metadata": {
      "needs_background": "light"
     },
     "output_type": "display_data"
    }
   ],
   "source": [
    "plt.hist(train_df.Age)\n",
    "plt.show()"
   ]
  },
  {
   "cell_type": "code",
   "execution_count": 36,
   "id": "5b858271",
   "metadata": {
    "execution": {
     "iopub.execute_input": "2022-06-29T14:30:47.515143Z",
     "iopub.status.busy": "2022-06-29T14:30:47.514854Z",
     "iopub.status.idle": "2022-06-29T14:30:47.535171Z",
     "shell.execute_reply": "2022-06-29T14:30:47.534233Z"
    },
    "papermill": {
     "duration": 0.043937,
     "end_time": "2022-06-29T14:30:47.536995",
     "exception": false,
     "start_time": "2022-06-29T14:30:47.493058",
     "status": "completed"
    },
    "tags": []
   },
   "outputs": [
    {
     "data": {
      "text/html": [
       "<div>\n",
       "<style scoped>\n",
       "    .dataframe tbody tr th:only-of-type {\n",
       "        vertical-align: middle;\n",
       "    }\n",
       "\n",
       "    .dataframe tbody tr th {\n",
       "        vertical-align: top;\n",
       "    }\n",
       "\n",
       "    .dataframe thead th {\n",
       "        text-align: right;\n",
       "    }\n",
       "</style>\n",
       "<table border=\"1\" class=\"dataframe\">\n",
       "  <thead>\n",
       "    <tr style=\"text-align: right;\">\n",
       "      <th></th>\n",
       "      <th>PassengerId</th>\n",
       "      <th>Survived</th>\n",
       "      <th>Pclass</th>\n",
       "      <th>Sex</th>\n",
       "      <th>Age</th>\n",
       "      <th>SibSp</th>\n",
       "      <th>Parch</th>\n",
       "      <th>Fare</th>\n",
       "      <th>Embarked</th>\n",
       "      <th>nickname</th>\n",
       "      <th>Age_Catg</th>\n",
       "    </tr>\n",
       "  </thead>\n",
       "  <tbody>\n",
       "    <tr>\n",
       "      <th>0</th>\n",
       "      <td>1</td>\n",
       "      <td>0</td>\n",
       "      <td>3</td>\n",
       "      <td>male</td>\n",
       "      <td>22.0</td>\n",
       "      <td>1</td>\n",
       "      <td>0</td>\n",
       "      <td>7.2500</td>\n",
       "      <td>S</td>\n",
       "      <td>Mr</td>\n",
       "      <td>1</td>\n",
       "    </tr>\n",
       "    <tr>\n",
       "      <th>1</th>\n",
       "      <td>2</td>\n",
       "      <td>1</td>\n",
       "      <td>1</td>\n",
       "      <td>female</td>\n",
       "      <td>38.0</td>\n",
       "      <td>1</td>\n",
       "      <td>0</td>\n",
       "      <td>71.2833</td>\n",
       "      <td>C</td>\n",
       "      <td>Mrs</td>\n",
       "      <td>2</td>\n",
       "    </tr>\n",
       "    <tr>\n",
       "      <th>2</th>\n",
       "      <td>3</td>\n",
       "      <td>1</td>\n",
       "      <td>3</td>\n",
       "      <td>female</td>\n",
       "      <td>26.0</td>\n",
       "      <td>0</td>\n",
       "      <td>0</td>\n",
       "      <td>7.9250</td>\n",
       "      <td>S</td>\n",
       "      <td>Miss</td>\n",
       "      <td>1</td>\n",
       "    </tr>\n",
       "    <tr>\n",
       "      <th>3</th>\n",
       "      <td>4</td>\n",
       "      <td>1</td>\n",
       "      <td>1</td>\n",
       "      <td>female</td>\n",
       "      <td>35.0</td>\n",
       "      <td>1</td>\n",
       "      <td>0</td>\n",
       "      <td>53.1000</td>\n",
       "      <td>S</td>\n",
       "      <td>Mrs</td>\n",
       "      <td>2</td>\n",
       "    </tr>\n",
       "    <tr>\n",
       "      <th>4</th>\n",
       "      <td>5</td>\n",
       "      <td>0</td>\n",
       "      <td>3</td>\n",
       "      <td>male</td>\n",
       "      <td>35.0</td>\n",
       "      <td>0</td>\n",
       "      <td>0</td>\n",
       "      <td>8.0500</td>\n",
       "      <td>S</td>\n",
       "      <td>Mr</td>\n",
       "      <td>2</td>\n",
       "    </tr>\n",
       "  </tbody>\n",
       "</table>\n",
       "</div>"
      ],
      "text/plain": [
       "   PassengerId  Survived  Pclass     Sex   Age  SibSp  Parch     Fare  \\\n",
       "0            1         0       3    male  22.0      1      0   7.2500   \n",
       "1            2         1       1  female  38.0      1      0  71.2833   \n",
       "2            3         1       3  female  26.0      0      0   7.9250   \n",
       "3            4         1       1  female  35.0      1      0  53.1000   \n",
       "4            5         0       3    male  35.0      0      0   8.0500   \n",
       "\n",
       "  Embarked nickname  Age_Catg  \n",
       "0        S       Mr         1  \n",
       "1        C      Mrs         2  \n",
       "2        S     Miss         1  \n",
       "3        S      Mrs         2  \n",
       "4        S       Mr         2  "
      ]
     },
     "execution_count": 36,
     "metadata": {},
     "output_type": "execute_result"
    }
   ],
   "source": [
    "#replace continous age with age band \n",
    "train_df['Age_Catg']=0\n",
    "train_df.loc[train_df['Age']<=16,'Age_Catg']=0\n",
    "train_df.loc[(train_df['Age']>16)&(train_df['Age']<=32),'Age_Catg']=1\n",
    "train_df.loc[(train_df['Age']>32)&(train_df['Age']<=48),'Age_Catg']=2\n",
    "train_df.loc[(train_df['Age']>48)&(train_df['Age']<=64),'Age_Catg']=3\n",
    "train_df.loc[train_df['Age']>64,'Age_Catg']=4\n",
    "train_df.head()"
   ]
  },
  {
   "cell_type": "code",
   "execution_count": 37,
   "id": "3783b33a",
   "metadata": {
    "execution": {
     "iopub.execute_input": "2022-06-29T14:30:47.581667Z",
     "iopub.status.busy": "2022-06-29T14:30:47.581411Z",
     "iopub.status.idle": "2022-06-29T14:30:47.944818Z",
     "shell.execute_reply": "2022-06-29T14:30:47.943986Z"
    },
    "papermill": {
     "duration": 0.38744,
     "end_time": "2022-06-29T14:30:47.946660",
     "exception": false,
     "start_time": "2022-06-29T14:30:47.559220",
     "status": "completed"
    },
    "tags": []
   },
   "outputs": [
    {
     "data": {
      "text/plain": [
       "<seaborn.axisgrid.FacetGrid at 0x7f83a7ba9950>"
      ]
     },
     "execution_count": 37,
     "metadata": {},
     "output_type": "execute_result"
    },
    {
     "data": {
      "image/png": "[encoded data removed]",
      "text/plain": [
       "<Figure size 584x144 with 2 Axes>"
      ]
     },
     "metadata": {
      "needs_background": "light"
     },
     "output_type": "display_data"
    }
   ],
   "source": [
    "grid = sns.FacetGrid(train_df, col= 'Survived',size= 2, aspect= 2)\n",
    "grid.map(sns.countplot,'Age_Catg', alpha = 0.7)\n",
    "grid.add_legend()"
   ]
  },
  {
   "cell_type": "code",
   "execution_count": 38,
   "id": "4d37fb20",
   "metadata": {
    "execution": {
     "iopub.execute_input": "2022-06-29T14:30:47.990516Z",
     "iopub.status.busy": "2022-06-29T14:30:47.989743Z",
     "iopub.status.idle": "2022-06-29T14:30:48.160111Z",
     "shell.execute_reply": "2022-06-29T14:30:48.159202Z"
    },
    "papermill": {
     "duration": 0.194598,
     "end_time": "2022-06-29T14:30:48.162423",
     "exception": false,
     "start_time": "2022-06-29T14:30:47.967825",
     "status": "completed"
    },
    "tags": []
   },
   "outputs": [
    {
     "data": {
      "image/png": "[encoded data removed]",
      "text/plain": [
       "<Figure size 432x288 with 1 Axes>"
      ]
     },
     "metadata": {
      "needs_background": "light"
     },
     "output_type": "display_data"
    }
   ],
   "source": [
    "plt.hist(train_df.Fare,range=(0,300))\n",
    "plt.show()"
   ]
  },
  {
   "cell_type": "code",
   "execution_count": 39,
   "id": "2d81a17d",
   "metadata": {
    "execution": {
     "iopub.execute_input": "2022-06-29T14:30:48.205797Z",
     "iopub.status.busy": "2022-06-29T14:30:48.205535Z",
     "iopub.status.idle": "2022-06-29T14:30:48.216234Z",
     "shell.execute_reply": "2022-06-29T14:30:48.215405Z"
    },
    "papermill": {
     "duration": 0.034676,
     "end_time": "2022-06-29T14:30:48.218040",
     "exception": false,
     "start_time": "2022-06-29T14:30:48.183364",
     "status": "completed"
    },
    "tags": []
   },
   "outputs": [],
   "source": [
    "# deal with fare column with the same approach\n",
    "train_df['Fare_catg']=0\n",
    "train_df.loc[train_df['Fare']<=8,'Fare_catg']=0\n",
    "train_df.loc[(train_df['Fare']>8)&(train_df['Fare']<=15),'Fare_catg']=1\n",
    "train_df.loc[(train_df['Fare']>15)&(train_df['Fare']<=30),'Fare_catg']=2\n",
    "train_df.loc[train_df['Fare']>30,'Fare_catg']=3"
   ]
  },
  {
   "cell_type": "code",
   "execution_count": 40,
   "id": "37b1047d",
   "metadata": {
    "execution": {
     "iopub.execute_input": "2022-06-29T14:30:48.261568Z",
     "iopub.status.busy": "2022-06-29T14:30:48.260783Z",
     "iopub.status.idle": "2022-06-29T14:30:48.601636Z",
     "shell.execute_reply": "2022-06-29T14:30:48.600729Z"
    },
    "papermill": {
     "duration": 0.364433,
     "end_time": "2022-06-29T14:30:48.603556",
     "exception": false,
     "start_time": "2022-06-29T14:30:48.239123",
     "status": "completed"
    },
    "tags": []
   },
   "outputs": [
    {
     "data": {
      "text/plain": [
       "<seaborn.axisgrid.FacetGrid at 0x7f83a7a2ef50>"
      ]
     },
     "execution_count": 40,
     "metadata": {},
     "output_type": "execute_result"
    },
    {
     "data": {
      "image/png": "[encoded data removed]",
      "text/plain": [
       "<Figure size 584x144 with 2 Axes>"
      ]
     },
     "metadata": {
      "needs_background": "light"
     },
     "output_type": "display_data"
    }
   ],
   "source": [
    "grid = sns.FacetGrid(train_df, col= 'Survived',size= 2, aspect= 2)\n",
    "grid.map(sns.countplot,'Fare_catg', alpha = 0.7)\n",
    "grid.add_legend()"
   ]
  },
  {
   "cell_type": "code",
   "execution_count": 41,
   "id": "aed77a5b",
   "metadata": {
    "execution": {
     "iopub.execute_input": "2022-06-29T14:30:48.649722Z",
     "iopub.status.busy": "2022-06-29T14:30:48.649416Z",
     "iopub.status.idle": "2022-06-29T14:30:48.656854Z",
     "shell.execute_reply": "2022-06-29T14:30:48.655921Z"
    },
    "papermill": {
     "duration": 0.033841,
     "end_time": "2022-06-29T14:30:48.658752",
     "exception": false,
     "start_time": "2022-06-29T14:30:48.624911",
     "status": "completed"
    },
    "tags": []
   },
   "outputs": [],
   "source": [
    "train_df['Family']=0\n",
    "train_df['Family']=train_df['Parch']+train_df['SibSp']\n",
    "train_df['Alone']=0\n",
    "train_df.loc[train_df.Family==0,'Alone']=1"
   ]
  },
  {
   "cell_type": "code",
   "execution_count": 42,
   "id": "9444eecf",
   "metadata": {
    "execution": {
     "iopub.execute_input": "2022-06-29T14:30:48.701837Z",
     "iopub.status.busy": "2022-06-29T14:30:48.701584Z",
     "iopub.status.idle": "2022-06-29T14:30:49.077840Z",
     "shell.execute_reply": "2022-06-29T14:30:49.076927Z"
    },
    "papermill": {
     "duration": 0.4,
     "end_time": "2022-06-29T14:30:49.079761",
     "exception": false,
     "start_time": "2022-06-29T14:30:48.679761",
     "status": "completed"
    },
    "tags": []
   },
   "outputs": [
    {
     "data": {
      "text/plain": [
       "<seaborn.axisgrid.FacetGrid at 0x7f83a7996d10>"
      ]
     },
     "execution_count": 42,
     "metadata": {},
     "output_type": "execute_result"
    },
    {
     "data": {
      "image/png": "[encoded data removed]",
      "text/plain": [
       "<Figure size 584x144 with 2 Axes>"
      ]
     },
     "metadata": {
      "needs_background": "light"
     },
     "output_type": "display_data"
    }
   ],
   "source": [
    "grid = sns.FacetGrid(train_df, col= 'Survived',size= 2, aspect= 2)\n",
    "grid.map(sns.countplot,'Family', alpha = 0.7)\n",
    "grid.add_legend()"
   ]
  },
  {
   "cell_type": "code",
   "execution_count": 43,
   "id": "64956ac8",
   "metadata": {
    "execution": {
     "iopub.execute_input": "2022-06-29T14:30:49.124674Z",
     "iopub.status.busy": "2022-06-29T14:30:49.124399Z",
     "iopub.status.idle": "2022-06-29T14:30:49.136526Z",
     "shell.execute_reply": "2022-06-29T14:30:49.135722Z"
    },
    "papermill": {
     "duration": 0.036298,
     "end_time": "2022-06-29T14:30:49.138438",
     "exception": false,
     "start_time": "2022-06-29T14:30:49.102140",
     "status": "completed"
    },
    "tags": []
   },
   "outputs": [],
   "source": [
    "train_df['Sex'].replace(['male','female'],[0,1],inplace=True)\n",
    "train_df['Embarked'].replace(['S','C','Q'],[0,1,2],inplace=True)\n",
    "train_df['nickname'].replace(['Mr','Mrs','Miss','Master','Other'],[0,1,2,3,4],inplace=True)"
   ]
  },
  {
   "cell_type": "code",
   "execution_count": 44,
   "id": "6a81e2ec",
   "metadata": {
    "execution": {
     "iopub.execute_input": "2022-06-29T14:30:49.183239Z",
     "iopub.status.busy": "2022-06-29T14:30:49.182624Z",
     "iopub.status.idle": "2022-06-29T14:30:49.187974Z",
     "shell.execute_reply": "2022-06-29T14:30:49.187152Z"
    },
    "papermill": {
     "duration": 0.029481,
     "end_time": "2022-06-29T14:30:49.189879",
     "exception": false,
     "start_time": "2022-06-29T14:30:49.160398",
     "status": "completed"
    },
    "tags": []
   },
   "outputs": [],
   "source": [
    "train_df.drop(['Fare','Age'], axis = 1, inplace = True)"
   ]
  },
  {
   "cell_type": "code",
   "execution_count": 45,
   "id": "fa638b95",
   "metadata": {
    "execution": {
     "iopub.execute_input": "2022-06-29T14:30:49.234201Z",
     "iopub.status.busy": "2022-06-29T14:30:49.233473Z",
     "iopub.status.idle": "2022-06-29T14:30:50.114432Z",
     "shell.execute_reply": "2022-06-29T14:30:50.113456Z"
    },
    "papermill": {
     "duration": 0.906411,
     "end_time": "2022-06-29T14:30:50.117223",
     "exception": false,
     "start_time": "2022-06-29T14:30:49.210812",
     "status": "completed"
    },
    "tags": []
   },
   "outputs": [
    {
     "data": {
      "image/png": "[encoded data removed]",
      "text/plain": [
       "<Figure size 864x576 with 2 Axes>"
      ]
     },
     "metadata": {
      "needs_background": "light"
     },
     "output_type": "display_data"
    }
   ],
   "source": [
    "sns.heatmap(train_df.corr(),annot=True,linewidths=0.2)\n",
    "fig=plt.gcf()\n",
    "fig.set_size_inches(12,8)\n",
    "plt.show()"
   ]
  },
  {
   "cell_type": "markdown",
   "id": "0abc505f",
   "metadata": {
    "papermill": {
     "duration": 0.022828,
     "end_time": "2022-06-29T14:30:50.163949",
     "exception": false,
     "start_time": "2022-06-29T14:30:50.141121",
     "status": "completed"
    },
    "tags": []
   },
   "source": [
    "### Data Processing with testing Data"
   ]
  },
  {
   "cell_type": "code",
   "execution_count": 46,
   "id": "8ae7195d",
   "metadata": {
    "execution": {
     "iopub.execute_input": "2022-06-29T14:30:50.211292Z",
     "iopub.status.busy": "2022-06-29T14:30:50.210981Z",
     "iopub.status.idle": "2022-06-29T14:30:50.244156Z",
     "shell.execute_reply": "2022-06-29T14:30:50.242988Z"
    },
    "papermill": {
     "duration": 0.05912,
     "end_time": "2022-06-29T14:30:50.246056",
     "exception": false,
     "start_time": "2022-06-29T14:30:50.186936",
     "status": "completed"
    },
    "tags": []
   },
   "outputs": [],
   "source": [
    "\n",
    "test_df['nickname']=0\n",
    "for i in test_df:\n",
    "    test_df['nickname']=test_df.Name.str.extract('([A-Za-z]+)\\.')\n",
    "\n",
    "test_df['nickname'].replace(['Mlle','Mme','Ms','Dr','Major','Lady','Countess','Jonkheer','Col','Rev','Capt','Sir','Dona'],\n",
    "                            ['Miss','Miss','Miss','Mr','Mr','Mrs','Mrs','Other','Other','Other','Mr','Mr','Mr'],inplace=True)\n",
    "\n",
    "# test_df.drop(test_df[test_df['nickname'] == 'Dona'].index, inplace = True)"
   ]
  },
  {
   "cell_type": "code",
   "execution_count": 47,
   "id": "997bf62a",
   "metadata": {
    "execution": {
     "iopub.execute_input": "2022-06-29T14:30:50.293274Z",
     "iopub.status.busy": "2022-06-29T14:30:50.292579Z",
     "iopub.status.idle": "2022-06-29T14:30:50.304438Z",
     "shell.execute_reply": "2022-06-29T14:30:50.303530Z"
    },
    "papermill": {
     "duration": 0.037726,
     "end_time": "2022-06-29T14:30:50.306525",
     "exception": false,
     "start_time": "2022-06-29T14:30:50.268799",
     "status": "completed"
    },
    "tags": []
   },
   "outputs": [],
   "source": [
    "# test_df.groupby('nickname')[['Age']].mean()\n",
    "test_df.loc[(test_df.Age.isnull())&(test_df.nickname=='Mr'),'Age']=33\n",
    "test_df.loc[(test_df.Age.isnull())&(test_df.nickname=='Mrs'),'Age']=36\n",
    "test_df.loc[(test_df.Age.isnull())&(test_df.nickname=='Master'),'Age']=5\n",
    "test_df.loc[(test_df.Age.isnull())&(test_df.nickname=='Miss'),'Age']=22\n",
    "test_df.loc[(test_df.Age.isnull())&(test_df.nickname=='Other'),'Age']=46"
   ]
  },
  {
   "cell_type": "code",
   "execution_count": 48,
   "id": "5310b4f4",
   "metadata": {
    "execution": {
     "iopub.execute_input": "2022-06-29T14:30:50.353451Z",
     "iopub.status.busy": "2022-06-29T14:30:50.353188Z",
     "iopub.status.idle": "2022-06-29T14:30:50.362809Z",
     "shell.execute_reply": "2022-06-29T14:30:50.362031Z"
    },
    "papermill": {
     "duration": 0.035326,
     "end_time": "2022-06-29T14:30:50.364703",
     "exception": false,
     "start_time": "2022-06-29T14:30:50.329377",
     "status": "completed"
    },
    "tags": []
   },
   "outputs": [],
   "source": [
    "# deal with fare column with the same approach\n",
    "test_df['Fare_catg']=0\n",
    "test_df.loc[test_df['Fare']<=8,'Fare_catg']=0\n",
    "test_df.loc[(test_df['Fare']>8)&(test_df['Fare']<=15),'Fare_catg']=1\n",
    "test_df.loc[(test_df['Fare']>15)&(test_df['Fare']<=30),'Fare_catg']=2\n",
    "test_df.loc[test_df['Fare']>30,'Fare_catg']=3"
   ]
  },
  {
   "cell_type": "code",
   "execution_count": 49,
   "id": "d4d9ad54",
   "metadata": {
    "execution": {
     "iopub.execute_input": "2022-06-29T14:30:50.410472Z",
     "iopub.status.busy": "2022-06-29T14:30:50.410216Z",
     "iopub.status.idle": "2022-06-29T14:30:50.418153Z",
     "shell.execute_reply": "2022-06-29T14:30:50.417368Z"
    },
    "papermill": {
     "duration": 0.033438,
     "end_time": "2022-06-29T14:30:50.420202",
     "exception": false,
     "start_time": "2022-06-29T14:30:50.386764",
     "status": "completed"
    },
    "tags": []
   },
   "outputs": [],
   "source": [
    "test_df['Family']=0\n",
    "test_df['Family']=test_df['Parch']+test_df['SibSp']\n",
    "test_df['Alone']=0\n",
    "test_df.loc[test_df.Family==0,'Alone']=1"
   ]
  },
  {
   "cell_type": "code",
   "execution_count": 50,
   "id": "04d81b07",
   "metadata": {
    "execution": {
     "iopub.execute_input": "2022-06-29T14:30:50.469705Z",
     "iopub.status.busy": "2022-06-29T14:30:50.469455Z",
     "iopub.status.idle": "2022-06-29T14:30:50.479085Z",
     "shell.execute_reply": "2022-06-29T14:30:50.478289Z"
    },
    "papermill": {
     "duration": 0.035704,
     "end_time": "2022-06-29T14:30:50.481207",
     "exception": false,
     "start_time": "2022-06-29T14:30:50.445503",
     "status": "completed"
    },
    "tags": []
   },
   "outputs": [],
   "source": [
    "test_df['Sex'].replace(['male','female'],[0,1],inplace=True)\n",
    "test_df['Embarked'].replace(['S','C','Q'],[0,1,2],inplace=True)\n",
    "test_df['nickname'].replace(['Mr','Mrs','Miss','Master','Other'],[0,1,2,3,4],inplace=True)"
   ]
  },
  {
   "cell_type": "code",
   "execution_count": 51,
   "id": "1db664b9",
   "metadata": {
    "execution": {
     "iopub.execute_input": "2022-06-29T14:30:50.527614Z",
     "iopub.status.busy": "2022-06-29T14:30:50.526995Z",
     "iopub.status.idle": "2022-06-29T14:30:50.532394Z",
     "shell.execute_reply": "2022-06-29T14:30:50.531405Z"
    },
    "papermill": {
     "duration": 0.031363,
     "end_time": "2022-06-29T14:30:50.534608",
     "exception": false,
     "start_time": "2022-06-29T14:30:50.503245",
     "status": "completed"
    },
    "tags": []
   },
   "outputs": [],
   "source": [
    "train = train_df.drop('Survived', axis = 1)\n",
    "label = train_df['Survived']\n",
    "label = pd.DataFrame(label)"
   ]
  },
  {
   "cell_type": "code",
   "execution_count": 52,
   "id": "d4efca73",
   "metadata": {
    "execution": {
     "iopub.execute_input": "2022-06-29T14:30:50.581580Z",
     "iopub.status.busy": "2022-06-29T14:30:50.580906Z",
     "iopub.status.idle": "2022-06-29T14:30:50.592291Z",
     "shell.execute_reply": "2022-06-29T14:30:50.591407Z"
    },
    "papermill": {
     "duration": 0.037556,
     "end_time": "2022-06-29T14:30:50.594271",
     "exception": false,
     "start_time": "2022-06-29T14:30:50.556715",
     "status": "completed"
    },
    "tags": []
   },
   "outputs": [],
   "source": [
    "test_df['Age_Catg']=0\n",
    "test_df.loc[test_df['Age']<=16,'Age_Catg']=0\n",
    "test_df.loc[(test_df['Age']>16)&(test_df['Age']<=32),'Age_Catg']=1\n",
    "test_df.loc[(test_df['Age']>32)&(test_df['Age']<=48),'Age_Catg']=2\n",
    "test_df.loc[(test_df['Age']>48)&(test_df['Age']<=64),'Age_Catg']=3\n",
    "test_df.loc[test_df['Age']>64,'Age_Catg']=4"
   ]
  },
  {
   "cell_type": "code",
   "execution_count": 53,
   "id": "1d49f0f8",
   "metadata": {
    "execution": {
     "iopub.execute_input": "2022-06-29T14:30:50.640836Z",
     "iopub.status.busy": "2022-06-29T14:30:50.640555Z",
     "iopub.status.idle": "2022-06-29T14:30:50.652535Z",
     "shell.execute_reply": "2022-06-29T14:30:50.651613Z"
    },
    "papermill": {
     "duration": 0.037866,
     "end_time": "2022-06-29T14:30:50.654446",
     "exception": false,
     "start_time": "2022-06-29T14:30:50.616580",
     "status": "completed"
    },
    "tags": []
   },
   "outputs": [
    {
     "data": {
      "text/html": [
       "<div>\n",
       "<style scoped>\n",
       "    .dataframe tbody tr th:only-of-type {\n",
       "        vertical-align: middle;\n",
       "    }\n",
       "\n",
       "    .dataframe tbody tr th {\n",
       "        vertical-align: top;\n",
       "    }\n",
       "\n",
       "    .dataframe thead th {\n",
       "        text-align: right;\n",
       "    }\n",
       "</style>\n",
       "<table border=\"1\" class=\"dataframe\">\n",
       "  <thead>\n",
       "    <tr style=\"text-align: right;\">\n",
       "      <th></th>\n",
       "      <th>Pclass</th>\n",
       "      <th>Sex</th>\n",
       "      <th>SibSp</th>\n",
       "      <th>Parch</th>\n",
       "      <th>Embarked</th>\n",
       "      <th>nickname</th>\n",
       "      <th>Fare_catg</th>\n",
       "      <th>Family</th>\n",
       "      <th>Alone</th>\n",
       "      <th>Age_Catg</th>\n",
       "    </tr>\n",
       "  </thead>\n",
       "  <tbody>\n",
       "    <tr>\n",
       "      <th>0</th>\n",
       "      <td>3</td>\n",
       "      <td>0</td>\n",
       "      <td>0</td>\n",
       "      <td>0</td>\n",
       "      <td>2</td>\n",
       "      <td>0</td>\n",
       "      <td>0</td>\n",
       "      <td>0</td>\n",
       "      <td>1</td>\n",
       "      <td>2</td>\n",
       "    </tr>\n",
       "    <tr>\n",
       "      <th>1</th>\n",
       "      <td>3</td>\n",
       "      <td>1</td>\n",
       "      <td>1</td>\n",
       "      <td>0</td>\n",
       "      <td>0</td>\n",
       "      <td>1</td>\n",
       "      <td>0</td>\n",
       "      <td>1</td>\n",
       "      <td>0</td>\n",
       "      <td>2</td>\n",
       "    </tr>\n",
       "    <tr>\n",
       "      <th>2</th>\n",
       "      <td>2</td>\n",
       "      <td>0</td>\n",
       "      <td>0</td>\n",
       "      <td>0</td>\n",
       "      <td>2</td>\n",
       "      <td>0</td>\n",
       "      <td>1</td>\n",
       "      <td>0</td>\n",
       "      <td>1</td>\n",
       "      <td>3</td>\n",
       "    </tr>\n",
       "    <tr>\n",
       "      <th>3</th>\n",
       "      <td>3</td>\n",
       "      <td>0</td>\n",
       "      <td>0</td>\n",
       "      <td>0</td>\n",
       "      <td>0</td>\n",
       "      <td>0</td>\n",
       "      <td>1</td>\n",
       "      <td>0</td>\n",
       "      <td>1</td>\n",
       "      <td>1</td>\n",
       "    </tr>\n",
       "    <tr>\n",
       "      <th>4</th>\n",
       "      <td>3</td>\n",
       "      <td>1</td>\n",
       "      <td>1</td>\n",
       "      <td>1</td>\n",
       "      <td>0</td>\n",
       "      <td>1</td>\n",
       "      <td>1</td>\n",
       "      <td>2</td>\n",
       "      <td>0</td>\n",
       "      <td>1</td>\n",
       "    </tr>\n",
       "  </tbody>\n",
       "</table>\n",
       "</div>"
      ],
      "text/plain": [
       "   Pclass  Sex  SibSp  Parch  Embarked  nickname  Fare_catg  Family  Alone  \\\n",
       "0       3    0      0      0         2         0          0       0      1   \n",
       "1       3    1      1      0         0         1          0       1      0   \n",
       "2       2    0      0      0         2         0          1       0      1   \n",
       "3       3    0      0      0         0         0          1       0      1   \n",
       "4       3    1      1      1         0         1          1       2      0   \n",
       "\n",
       "   Age_Catg  \n",
       "0         2  \n",
       "1         2  \n",
       "2         3  \n",
       "3         1  \n",
       "4         1  "
      ]
     },
     "execution_count": 53,
     "metadata": {},
     "output_type": "execute_result"
    }
   ],
   "source": [
    "test=test_df.drop(columns=['Fare','Name','Ticket','Age','Cabin','PassengerId'])\n",
    "test.head()"
   ]
  },
  {
   "cell_type": "code",
   "execution_count": 54,
   "id": "6f234f14",
   "metadata": {
    "execution": {
     "iopub.execute_input": "2022-06-29T14:30:50.701225Z",
     "iopub.status.busy": "2022-06-29T14:30:50.700722Z",
     "iopub.status.idle": "2022-06-29T14:30:50.712276Z",
     "shell.execute_reply": "2022-06-29T14:30:50.711368Z"
    },
    "papermill": {
     "duration": 0.037268,
     "end_time": "2022-06-29T14:30:50.714058",
     "exception": false,
     "start_time": "2022-06-29T14:30:50.676790",
     "status": "completed"
    },
    "tags": []
   },
   "outputs": [
    {
     "data": {
      "text/html": [
       "<div>\n",
       "<style scoped>\n",
       "    .dataframe tbody tr th:only-of-type {\n",
       "        vertical-align: middle;\n",
       "    }\n",
       "\n",
       "    .dataframe tbody tr th {\n",
       "        vertical-align: top;\n",
       "    }\n",
       "\n",
       "    .dataframe thead th {\n",
       "        text-align: right;\n",
       "    }\n",
       "</style>\n",
       "<table border=\"1\" class=\"dataframe\">\n",
       "  <thead>\n",
       "    <tr style=\"text-align: right;\">\n",
       "      <th></th>\n",
       "      <th>Survived</th>\n",
       "      <th>Pclass</th>\n",
       "      <th>Sex</th>\n",
       "      <th>SibSp</th>\n",
       "      <th>Parch</th>\n",
       "      <th>Embarked</th>\n",
       "      <th>nickname</th>\n",
       "      <th>Age_Catg</th>\n",
       "      <th>Fare_catg</th>\n",
       "      <th>Family</th>\n",
       "      <th>Alone</th>\n",
       "    </tr>\n",
       "  </thead>\n",
       "  <tbody>\n",
       "    <tr>\n",
       "      <th>0</th>\n",
       "      <td>0</td>\n",
       "      <td>3</td>\n",
       "      <td>0</td>\n",
       "      <td>1</td>\n",
       "      <td>0</td>\n",
       "      <td>0</td>\n",
       "      <td>0</td>\n",
       "      <td>1</td>\n",
       "      <td>0</td>\n",
       "      <td>1</td>\n",
       "      <td>0</td>\n",
       "    </tr>\n",
       "    <tr>\n",
       "      <th>1</th>\n",
       "      <td>1</td>\n",
       "      <td>1</td>\n",
       "      <td>1</td>\n",
       "      <td>1</td>\n",
       "      <td>0</td>\n",
       "      <td>1</td>\n",
       "      <td>1</td>\n",
       "      <td>2</td>\n",
       "      <td>3</td>\n",
       "      <td>1</td>\n",
       "      <td>0</td>\n",
       "    </tr>\n",
       "    <tr>\n",
       "      <th>2</th>\n",
       "      <td>1</td>\n",
       "      <td>3</td>\n",
       "      <td>1</td>\n",
       "      <td>0</td>\n",
       "      <td>0</td>\n",
       "      <td>0</td>\n",
       "      <td>2</td>\n",
       "      <td>1</td>\n",
       "      <td>0</td>\n",
       "      <td>0</td>\n",
       "      <td>1</td>\n",
       "    </tr>\n",
       "    <tr>\n",
       "      <th>3</th>\n",
       "      <td>1</td>\n",
       "      <td>1</td>\n",
       "      <td>1</td>\n",
       "      <td>1</td>\n",
       "      <td>0</td>\n",
       "      <td>0</td>\n",
       "      <td>1</td>\n",
       "      <td>2</td>\n",
       "      <td>3</td>\n",
       "      <td>1</td>\n",
       "      <td>0</td>\n",
       "    </tr>\n",
       "    <tr>\n",
       "      <th>4</th>\n",
       "      <td>0</td>\n",
       "      <td>3</td>\n",
       "      <td>0</td>\n",
       "      <td>0</td>\n",
       "      <td>0</td>\n",
       "      <td>0</td>\n",
       "      <td>0</td>\n",
       "      <td>2</td>\n",
       "      <td>1</td>\n",
       "      <td>0</td>\n",
       "      <td>1</td>\n",
       "    </tr>\n",
       "  </tbody>\n",
       "</table>\n",
       "</div>"
      ],
      "text/plain": [
       "   Survived  Pclass  Sex  SibSp  Parch  Embarked  nickname  Age_Catg  \\\n",
       "0         0       3    0      1      0         0         0         1   \n",
       "1         1       1    1      1      0         1         1         2   \n",
       "2         1       3    1      0      0         0         2         1   \n",
       "3         1       1    1      1      0         0         1         2   \n",
       "4         0       3    0      0      0         0         0         2   \n",
       "\n",
       "   Fare_catg  Family  Alone  \n",
       "0          0       1      0  \n",
       "1          3       1      0  \n",
       "2          0       0      1  \n",
       "3          3       1      0  \n",
       "4          1       0      1  "
      ]
     },
     "execution_count": 54,
     "metadata": {},
     "output_type": "execute_result"
    }
   ],
   "source": [
    "train_df=train_df.drop(columns=['PassengerId'])\n",
    "train_df.head()"
   ]
  },
  {
   "cell_type": "code",
   "execution_count": 55,
   "id": "b6979373",
   "metadata": {
    "execution": {
     "iopub.execute_input": "2022-06-29T14:30:50.761740Z",
     "iopub.status.busy": "2022-06-29T14:30:50.761268Z",
     "iopub.status.idle": "2022-06-29T14:30:50.766875Z",
     "shell.execute_reply": "2022-06-29T14:30:50.766042Z"
    },
    "papermill": {
     "duration": 0.03211,
     "end_time": "2022-06-29T14:30:50.768838",
     "exception": false,
     "start_time": "2022-06-29T14:30:50.736728",
     "status": "completed"
    },
    "tags": []
   },
   "outputs": [],
   "source": [
    "train=train_df.drop('Survived',axis=1)\n",
    "label = pd.DataFrame(train_df['Survived'])"
   ]
  },
  {
   "cell_type": "markdown",
   "id": "b43da2d9",
   "metadata": {
    "papermill": {
     "duration": 0.022665,
     "end_time": "2022-06-29T14:30:50.814987",
     "exception": false,
     "start_time": "2022-06-29T14:30:50.792322",
     "status": "completed"
    },
    "tags": []
   },
   "source": [
    "### Split data for modeling"
   ]
  },
  {
   "cell_type": "code",
   "execution_count": 56,
   "id": "be9d1bd3",
   "metadata": {
    "execution": {
     "iopub.execute_input": "2022-06-29T14:30:50.861806Z",
     "iopub.status.busy": "2022-06-29T14:30:50.861556Z",
     "iopub.status.idle": "2022-06-29T14:30:50.867851Z",
     "shell.execute_reply": "2022-06-29T14:30:50.867051Z"
    },
    "papermill": {
     "duration": 0.031966,
     "end_time": "2022-06-29T14:30:50.869723",
     "exception": false,
     "start_time": "2022-06-29T14:30:50.837757",
     "status": "completed"
    },
    "tags": []
   },
   "outputs": [],
   "source": [
    "x_train, x_test, y_train, y_test = train_test_split(train, label, test_size=0.2, random_state=0)"
   ]
  },
  {
   "cell_type": "code",
   "execution_count": 57,
   "id": "74200cce",
   "metadata": {
    "execution": {
     "iopub.execute_input": "2022-06-29T14:30:50.916368Z",
     "iopub.status.busy": "2022-06-29T14:30:50.915860Z",
     "iopub.status.idle": "2022-06-29T14:30:50.932698Z",
     "shell.execute_reply": "2022-06-29T14:30:50.931540Z"
    },
    "papermill": {
     "duration": 0.043525,
     "end_time": "2022-06-29T14:30:50.935888",
     "exception": false,
     "start_time": "2022-06-29T14:30:50.892363",
     "status": "completed"
    },
    "tags": []
   },
   "outputs": [
    {
     "name": "stdout",
     "output_type": "stream",
     "text": [
      "Train accuracy: 88.76 \n",
      "Test accuracy: 83.24\n"
     ]
    }
   ],
   "source": [
    "# Decicion Tree Model\n",
    "\n",
    "dt_model = DecisionTreeClassifier()\n",
    "dt_model.fit(x_train,y_train)\n",
    "tr_predict_dt = dt_model.predict(x_test)\n",
    "\n",
    "dt_train_acc = round(dt_model.score(x_train, y_train) * 100, 2)\n",
    "dt_test_acc =round(accuracy_score(y_test, tr_predict_dt)*100,2)\n",
    "print('Train accuracy: {} \\nTest accuracy: {}'.format(dt_train_acc,dt_test_acc))\n",
    "\n",
    "ts_pred=dt_model.predict(test)"
   ]
  },
  {
   "cell_type": "code",
   "execution_count": 58,
   "id": "6dc15de5",
   "metadata": {
    "execution": {
     "iopub.execute_input": "2022-06-29T14:30:50.983428Z",
     "iopub.status.busy": "2022-06-29T14:30:50.983185Z",
     "iopub.status.idle": "2022-06-29T14:30:50.994476Z",
     "shell.execute_reply": "2022-06-29T14:30:50.993453Z"
    },
    "papermill": {
     "duration": 0.037261,
     "end_time": "2022-06-29T14:30:50.996547",
     "exception": false,
     "start_time": "2022-06-29T14:30:50.959286",
     "status": "completed"
    },
    "tags": []
   },
   "outputs": [],
   "source": [
    "dct_output = pd.DataFrame()\n",
    "dct_output['PassengerId']=test_df.PassengerId\n",
    "dct_output['Survived']=ts_pred\n",
    "dct_output.to_csv('dct_submission.csv')\n",
    "dct_output.set_index('PassengerId').to_csv('dct_submission.csv')"
   ]
  },
  {
   "cell_type": "code",
   "execution_count": 59,
   "id": "fce5f827",
   "metadata": {
    "execution": {
     "iopub.execute_input": "2022-06-29T14:30:51.044647Z",
     "iopub.status.busy": "2022-06-29T14:30:51.044150Z",
     "iopub.status.idle": "2022-06-29T14:30:51.259245Z",
     "shell.execute_reply": "2022-06-29T14:30:51.257918Z"
    },
    "papermill": {
     "duration": 0.241507,
     "end_time": "2022-06-29T14:30:51.261554",
     "exception": false,
     "start_time": "2022-06-29T14:30:51.020047",
     "status": "completed"
    },
    "tags": []
   },
   "outputs": [
    {
     "name": "stdout",
     "output_type": "stream",
     "text": [
      "Train accuracy: 88.76 \n",
      "Test accuracy: 84.92\n"
     ]
    }
   ],
   "source": [
    "#Random Forest Classifier model\n",
    "random_forest = RandomForestClassifier(n_estimators=100)\n",
    "random_forest.fit(x_train, y_train)\n",
    "tr_predict_rf = random_forest.predict(x_test)\n",
    "rf_train_acc = round(random_forest.score(x_train, y_train) * 100, 2)\n",
    "rf_test_acc =round(accuracy_score(y_test, tr_predict_rf)*100,2)\n",
    "print('Train accuracy: {} \\nTest accuracy: {}'.format(rf_train_acc,rf_test_acc))"
   ]
  },
  {
   "cell_type": "code",
   "execution_count": 60,
   "id": "176cf2d1",
   "metadata": {
    "execution": {
     "iopub.execute_input": "2022-06-29T14:30:51.309561Z",
     "iopub.status.busy": "2022-06-29T14:30:51.309278Z",
     "iopub.status.idle": "2022-06-29T14:30:51.319801Z",
     "shell.execute_reply": "2022-06-29T14:30:51.319031Z"
    },
    "papermill": {
     "duration": 0.036537,
     "end_time": "2022-06-29T14:30:51.321936",
     "exception": false,
     "start_time": "2022-06-29T14:30:51.285399",
     "status": "completed"
    },
    "tags": []
   },
   "outputs": [],
   "source": [
    "rf_output = pd.DataFrame()\n",
    "rf_output['PassengerId']=test_df.PassengerId\n",
    "rf_output['Survived']=ts_pred\n",
    "rf_output.to_csv('rf_submission.csv')\n",
    "rf_output.set_index('PassengerId').to_csv('rf_submission.csv')"
   ]
  }
 ],
 "metadata": {
  "kernelspec": {
   "display_name": "Python 3",
   "language": "python",
   "name": "python3"
  },
  "language_info": {
   "codemirror_mode": {
    "name": "ipython",
    "version": 3
   },
   "file_extension": ".py",
   "mimetype": "text/x-python",
   "name": "python",
   "nbconvert_exporter": "python",
   "pygments_lexer": "ipython3",
   "version": "3.7.12"
  },
  "papermill": {
   "default_parameters": {},
   "duration": 21.789982,
   "end_time": "2022-06-29T14:30:52.164968",
   "environment_variables": {},
   "exception": null,
   "input_path": "__notebook__.ipynb",
   "output_path": "__notebook__.ipynb",
   "parameters": {},
   "start_time": "2022-06-29T14:30:30.374986",
   "version": "2.3.4"
  }
 },
 "nbformat": 4,
 "nbformat_minor": 5
}
